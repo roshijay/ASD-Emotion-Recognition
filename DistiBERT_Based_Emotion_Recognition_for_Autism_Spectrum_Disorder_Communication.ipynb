{
 "cells": [
  {
   "cell_type": "markdown",
   "metadata": {
    "id": "BdWbLRgmULr6"
   },
   "source": [
    "# DistiBERT-Based Emotion Recognition for Autism Spectrum Disorder Communication.\n",
    "\n",
    "\n",
    "Authors: Roshini Jayasankar\n",
    "\n",
    "Date: 12/18/2024\n",
    "\n",
    "## Table of Contents\n",
    "\n",
    "- [Abstract](#Abstract)\n",
    "- [Introduction](#introduction)\n",
    "  - [Background](#backgound)\n",
    "  - [Objectives](#objectives)\n",
    "  - [Problem Statement](#ProblemStatement)\n",
    "- [Data Description](#data-description)\n",
    "  - [Dataset Overview](#dataset-overview)\n",
    "  - [Data Dictionary](#data-dictionary)\n",
    "- [Methodology](#methodology)\n",
    "- [Discussion](#discussion)\n",
    "  - [Analysis and Visualization](#analysisandvisualization)\n",
    "  - [Testing on Real-World Forums](#testingonreal-worldforums)\n",
    "- [Conclusion](#conclusion)\n",
    "- [References](#references)\n"
   ]
  },
  {
   "cell_type": "markdown",
   "metadata": {
    "id": "RGl0vK2dXaDA"
   },
   "source": [
    "# Abstract\n",
    "\n",
    "Emotion recognition serves a fundamental role in understanding interpersonal communication and behavior. However, existing sentiment analysis frameworks and general-purpose emotion recognition systems, such as lexicon-based approaches (e.g., VADER), fail to account for the unique emotional expression patterns observed in Autism Spectrum Disorder (ASD). These tools often rely on linguistic structures and emotional cues typical of neurotypical communication, overlooking the atypical phrasing, unconventional contextual meanings, and reduced emotional expressiveness associated with ASD-specific communication.\n",
    "\n",
    "This research introduces a novel approach that leverages DistilBERT, a pre-trained transformer model, to classify emotions in textual communication specific to individuals with ASD. Using the GoEmotions dataset, the model is fine-tuned to recognize five primary emotion classes: joy, sadness, anger, anxiety (fear), and neutral. To address challenges such as variability in ASD communication and data scarcity, the study incorporates rigorous preprocessing and model adaptation techniques.\n",
    "\n",
    "The model achieves an F1-score of 0.88 and an accuracy of 87.7%, demonstrating its effectiveness in capturing subtle emotional cues in ASD-relevant contexts. Interpretability tools, such as LIME (Local Interpretable Model-agnostic Explanations), provide insights into the model’s decision-making process, ensuring its reliability for practical applications.\n",
    "\n",
    "This work advances existing research on emotion recognition in ASD by addressing the limitations of conventional methods and tailoring the approach to accommodate ASD-specific communication patterns. The findings highlight the potential for Natural Language Processing (NLP) tools to enhance emotional understanding, offering a practical, interpretable tool for caregivers, researchers, and practitioners to deliver more personalized interventions and support.\n",
    "\n"
   ]
  },
  {
   "cell_type": "markdown",
   "metadata": {
    "id": "V9EZbWJfIIIp"
   },
   "source": [
    "## Introduction\n",
    "\n",
    "Accurately interpreting emotional states is essential for effective human communication, enabling individuals to respond appropriately to the emotions of others. However, individuals with Autism Spectrum Disorder (ASD) often demonstrate emotional expression patterns that deviate from neurotypical norms. These deviations can include atypical phrasing, unconventional contextual meanings, and reduced emotional expressiveness, posing significant challenges in communication and social interaction. As a result, conventional emotion recognition systems fail to address the nuances of ASD-specific emotional expressions.\n",
    "\n",
    "Existing tools, such as sentiment analysis frameworks and general-purpose emotion recognition systems, predominantly rely on standardized linguistic structures and emotional cues tailored to neurotypical communication. While these tools perform well in neurotypical contexts, they fail to capture the subtle and diverse emotional patterns inherent to ASD communication. This shortcoming highlights the critical need for specialized emotion recognition models capable of accommodating the unique emotional and linguistic traits associated with individuals on the autism spectrum.\n",
    "\n",
    "Advancements in Natural Language Processing (NLP), particularly the development of transformer-based models such as DistilBERT, have revolutionized text analysis. Transformer models are particularly well-suited to handling atypical linguistic patterns due to their ability to capture nuanced contextual relationships, even in nonstandard or fragmented text. DistilBERT’s lightweight architecture maintains the effectiveness of larger transformer models while offering computational efficiency, making it an ideal candidate for fine-tuning on ASD-specific communication.\n",
    "\n",
    "This study focuses on five primary emotion categories: joy, sadness, anger, anxiety (fear), and neutral. These categories were selected to reflect common emotional states in ASD communication, with \"fear\" and \"neutral\" prioritized due to their frequent occurrence in contexts like social anxiety and restrained expressiveness. The chosen categories aim to balance interpretability and relevance, ensuring practical utility for caregivers and researchers.\n",
    "\n",
    "This research bridges the gap between conventional tools and ASD-specific needs, offering a tailored solution for more accurate emotion recognition. The key objectives of this study are to:\n",
    "\n",
    " - Fine-tune the pre-trained DistilBERT model for emotion classification specific to ASD communication.\n",
    " - Classify emotions into five primary categories: joy, sadness, anger, anxiety, and neutral.\n",
    " - Evaluate the model's performance using established metrics, including accuracy and F1-score.\n",
    " - Explore the model’s broader applicability in supporting researchers, caregivers, and educators working with individuals with ASD.\n",
    "\n",
    "By addressing these objectives, the study aims to provide a reliable and practical solution for understanding emotional expression in ASD, facilitating improved communication, personalized interventions, and enhanced support.  \n",
    "  \n",
    "\n"
   ]
  },
  {
   "cell_type": "markdown",
   "metadata": {
    "id": "ChquYTfrcn0E"
   },
   "source": [
    "## Data Description\n",
    "\n",
    "**Dataset Overview**\n",
    "\n",
    "The GoEmotions dataset, curated by Google Research, is one of the largest publicly available datasets for emotion recognition in textual data. It comprises over 58,000 English sentences sourced from Reddit, annotated with 27 distinct emotion labels, including a \"neutral\" category. The dataset captures a broad range of emotions, from basic categories like joy, sadness, and anger to more nuanced emotions such as amusement, curiosity, and approval. This comprehensive taxonomy enables thorough analysis and modeling of emotional expressions across diverse contexts.\n",
    "\n",
    "The dataset's diverse annotations are particularly suitable for Autism Spectrum Disorder (ASD)-related research, as they encompass both overt and subtle emotional expressions. ASD communication often involves atypical phrasing, reduced expressiveness, and unconventional emotional cues. The dataset's richness ensures that even nuanced expressions are well-represented, providing a strong foundation for fine-tuning models like DistilBERT to capture the unique emotional dynamics associated with ASD communication.\n",
    "\n",
    "For the purposes of this study, the dataset was filtered and tailored to focus on five primary emotion categories:\n",
    "\n",
    "   - Joy\n",
    "   - Sadness\n",
    "   - Anger\n",
    "   - Anxiety (mapped from \"fear\")\n",
    "   - Neutral\n",
    "\n",
    "These categories align with the research objectives of classifying emotional expressions relevant to ASD communication, where simplified yet significant emotional categories are crucial for practical interpretability. The decision to focus on these five categories reduces the complexity of the classification task while ensuring relevance to common emotional states experienced by individuals with ASD.\n",
    "\n",
    "Filtering the dataset for these specific categories impacts its structure and class balance. For example:\n",
    "\n",
    "  - The dataset becomes more targeted, with emotions like amusement excluded\n",
    "     to simplify interpretability.\n",
    "\n",
    "  - Class imbalance is introduced or exacerbated due to the uneven distribution of labels, with \"neutral\" often being the dominant category. Addressing this imbalance during preprocessing is critical for robust model performance.\n",
    "\n",
    "The dataset is publicly accessible and can be downloaded from the following link:\n",
    "https://github.com/google-research/google-research/tree/master/goemotions\n",
    "\n",
    "\n",
    "---\n",
    "\n",
    "**Data Dictionary**\n",
    "\n",
    "\n",
    "| **Variable**       | **Description**                                                                 |\n",
    "|---------------------|---------------------------------------------------------------------------------|\n",
    "| **Text**            | The textual data, consisting of short sentences or comments sourced from Reddit. |\n",
    "| **Labels**          | A multi-label annotation indicating one or more emotion categories.             |\n",
    "| **Neutral**         | A binary label indicating whether the text is emotionally neutral.              |\n",
    "| **Split**           | The data is partitioned into training, validation, and test subsets.            |\n",
    "\n",
    "\n",
    "\n"
   ]
  },
  {
   "cell_type": "markdown",
   "metadata": {
    "id": "0oPbsg6KAyvh"
   },
   "source": [
    "## Methodology\n",
    "\n",
    "<div style=\"text-align: justify;\">\n",
    "\n",
    "**Exploratory Data Analysis**\n",
    "\n",
    "Objective: The EDA aims to understand the dataset's structure, distribution, and characteristics.\n",
    "\n",
    "Steps:\n",
    "  1. Data Summary: Display the number of samples, labels, and dataset splits.\n",
    "  2. Label Distribution: Visualize the frequency of each emotion label.\n",
    "  3. Sample Review: Examine a few text samples to understand their content.\n",
    "</div>"
   ]
  },
  {
   "cell_type": "markdown",
   "metadata": {
    "id": "J_Ra4HNSeFtu"
   },
   "source": [
    "*Step 1: Loading the dataset*"
   ]
  },
  {
   "cell_type": "code",
   "execution_count": null,
   "metadata": {
    "colab": {
     "base_uri": "https://localhost:8080/"
    },
    "id": "duFUCyNT-LmC",
    "outputId": "357755a9-a078-4b89-a1c0-d1dc2eac481a"
   },
   "outputs": [
    {
     "name": "stdout",
     "output_type": "stream",
     "text": [
      "Requirement already satisfied: datasets in /usr/local/lib/python3.10/dist-packages (3.2.0)\n",
      "Requirement already satisfied: filelock in /usr/local/lib/python3.10/dist-packages (from datasets) (3.16.1)\n",
      "Requirement already satisfied: numpy>=1.17 in /usr/local/lib/python3.10/dist-packages (from datasets) (1.26.4)\n",
      "Requirement already satisfied: pyarrow>=15.0.0 in /usr/local/lib/python3.10/dist-packages (from datasets) (17.0.0)\n",
      "Requirement already satisfied: dill<0.3.9,>=0.3.0 in /usr/local/lib/python3.10/dist-packages (from datasets) (0.3.8)\n",
      "Requirement already satisfied: pandas in /usr/local/lib/python3.10/dist-packages (from datasets) (2.2.2)\n",
      "Requirement already satisfied: requests>=2.32.2 in /usr/local/lib/python3.10/dist-packages (from datasets) (2.32.3)\n",
      "Requirement already satisfied: tqdm>=4.66.3 in /usr/local/lib/python3.10/dist-packages (from datasets) (4.66.6)\n",
      "Requirement already satisfied: xxhash in /usr/local/lib/python3.10/dist-packages (from datasets) (3.5.0)\n",
      "Requirement already satisfied: multiprocess<0.70.17 in /usr/local/lib/python3.10/dist-packages (from datasets) (0.70.16)\n",
      "Requirement already satisfied: fsspec<=2024.9.0,>=2023.1.0 in /usr/local/lib/python3.10/dist-packages (from fsspec[http]<=2024.9.0,>=2023.1.0->datasets) (2024.9.0)\n",
      "Requirement already satisfied: aiohttp in /usr/local/lib/python3.10/dist-packages (from datasets) (3.11.10)\n",
      "Requirement already satisfied: huggingface-hub>=0.23.0 in /usr/local/lib/python3.10/dist-packages (from datasets) (0.26.5)\n",
      "Requirement already satisfied: packaging in /usr/local/lib/python3.10/dist-packages (from datasets) (24.2)\n",
      "Requirement already satisfied: pyyaml>=5.1 in /usr/local/lib/python3.10/dist-packages (from datasets) (6.0.2)\n",
      "Requirement already satisfied: aiohappyeyeballs>=2.3.0 in /usr/local/lib/python3.10/dist-packages (from aiohttp->datasets) (2.4.4)\n",
      "Requirement already satisfied: aiosignal>=1.1.2 in /usr/local/lib/python3.10/dist-packages (from aiohttp->datasets) (1.3.1)\n",
      "Requirement already satisfied: async-timeout<6.0,>=4.0 in /usr/local/lib/python3.10/dist-packages (from aiohttp->datasets) (4.0.3)\n",
      "Requirement already satisfied: attrs>=17.3.0 in /usr/local/lib/python3.10/dist-packages (from aiohttp->datasets) (24.2.0)\n",
      "Requirement already satisfied: frozenlist>=1.1.1 in /usr/local/lib/python3.10/dist-packages (from aiohttp->datasets) (1.5.0)\n",
      "Requirement already satisfied: multidict<7.0,>=4.5 in /usr/local/lib/python3.10/dist-packages (from aiohttp->datasets) (6.1.0)\n",
      "Requirement already satisfied: propcache>=0.2.0 in /usr/local/lib/python3.10/dist-packages (from aiohttp->datasets) (0.2.1)\n",
      "Requirement already satisfied: yarl<2.0,>=1.17.0 in /usr/local/lib/python3.10/dist-packages (from aiohttp->datasets) (1.18.3)\n",
      "Requirement already satisfied: typing-extensions>=3.7.4.3 in /usr/local/lib/python3.10/dist-packages (from huggingface-hub>=0.23.0->datasets) (4.12.2)\n",
      "Requirement already satisfied: charset-normalizer<4,>=2 in /usr/local/lib/python3.10/dist-packages (from requests>=2.32.2->datasets) (3.4.0)\n",
      "Requirement already satisfied: idna<4,>=2.5 in /usr/local/lib/python3.10/dist-packages (from requests>=2.32.2->datasets) (3.10)\n",
      "Requirement already satisfied: urllib3<3,>=1.21.1 in /usr/local/lib/python3.10/dist-packages (from requests>=2.32.2->datasets) (2.2.3)\n",
      "Requirement already satisfied: certifi>=2017.4.17 in /usr/local/lib/python3.10/dist-packages (from requests>=2.32.2->datasets) (2024.8.30)\n",
      "Requirement already satisfied: python-dateutil>=2.8.2 in /usr/local/lib/python3.10/dist-packages (from pandas->datasets) (2.8.2)\n",
      "Requirement already satisfied: pytz>=2020.1 in /usr/local/lib/python3.10/dist-packages (from pandas->datasets) (2024.2)\n",
      "Requirement already satisfied: tzdata>=2022.7 in /usr/local/lib/python3.10/dist-packages (from pandas->datasets) (2024.2)\n",
      "Requirement already satisfied: six>=1.5 in /usr/local/lib/python3.10/dist-packages (from python-dateutil>=2.8.2->pandas->datasets) (1.17.0)\n",
      "DatasetDict({\n",
      "    train: Dataset({\n",
      "        features: ['text', 'labels', 'id'],\n",
      "        num_rows: 43410\n",
      "    })\n",
      "    validation: Dataset({\n",
      "        features: ['text', 'labels', 'id'],\n",
      "        num_rows: 5426\n",
      "    })\n",
      "    test: Dataset({\n",
      "        features: ['text', 'labels', 'id'],\n",
      "        num_rows: 5427\n",
      "    })\n",
      "})\n"
     ]
    }
   ],
   "source": [
    "!pip install datasets\n",
    "\n",
    "from datasets import load_dataset\n",
    "\n",
    "# Load the GoEmotions dataset\n",
    "goemotions = load_dataset(\"go_emotions\")\n",
    "\n",
    "# Print dataset structure\n",
    "print(goemotions)"
   ]
  },
  {
   "cell_type": "markdown",
   "metadata": {
    "id": "Hug-z7qfUV_6"
   },
   "source": [
    "*Step 2: Calculate proportions of the dataset splits*"
   ]
  },
  {
   "cell_type": "code",
   "execution_count": null,
   "metadata": {
    "colab": {
     "base_uri": "https://localhost:8080/"
    },
    "id": "2qDPYob8-Qi9",
    "outputId": "9312bc84-0452-4305-ffab-607b7ac4f925"
   },
   "outputs": [
    {
     "name": "stdout",
     "output_type": "stream",
     "text": [
      "Training set ratio: 80.00%\n",
      "Validation set ratio: 10.00%\n",
      "Test set ratio: 10.00%\n"
     ]
    }
   ],
   "source": [
    "# Proportions of dataset splits\n",
    "total_samples = len(goemotions['train']) + len(goemotions['validation']) + len(goemotions['test'])\n",
    "train_ratio = len(goemotions['train']) / total_samples\n",
    "val_ratio = len(goemotions['validation']) / total_samples\n",
    "test_ratio = len(goemotions['test']) / total_samples\n",
    "\n",
    "print(f\"Training set ratio: {train_ratio:.2%}\")\n",
    "print(f\"Validation set ratio: {val_ratio:.2%}\")\n",
    "print(f\"Test set ratio: {test_ratio:.2%}\")\n"
   ]
  },
  {
   "cell_type": "markdown",
   "metadata": {
    "id": "xB386bbvYffB"
   },
   "source": [
    "The dataset is divided into training (80%), validation (10%), and test (10%) splits. These proportions ensure sufficient data for training while maintaining thorough validation and testing."
   ]
  },
  {
   "cell_type": "markdown",
   "metadata": {
    "id": "SnJpxvpbyYip"
   },
   "source": [
    "*Step 3: Inspecting sample texts and understanding dataset features*"
   ]
  },
  {
   "cell_type": "code",
   "execution_count": null,
   "metadata": {
    "colab": {
     "base_uri": "https://localhost:8080/"
    },
    "id": "-ys-skIb-evx",
    "outputId": "224b8a13-5c93-4c0d-c5f2-379a66f0ba35"
   },
   "outputs": [
    {
     "name": "stdout",
     "output_type": "stream",
     "text": [
      "Features: {'text': Value(dtype='string', id=None), 'labels': Sequence(feature=ClassLabel(names=['admiration', 'amusement', 'anger', 'annoyance', 'approval', 'caring', 'confusion', 'curiosity', 'desire', 'disappointment', 'disapproval', 'disgust', 'embarrassment', 'excitement', 'fear', 'gratitude', 'grief', 'joy', 'love', 'nervousness', 'optimism', 'pride', 'realization', 'relief', 'remorse', 'sadness', 'surprise', 'neutral'], id=None), length=-1, id=None), 'id': Value(dtype='string', id=None)}\n",
      "Text: My favourite food is anything I didn't have to cook myself.\n",
      "Labels: ['neutral']\n",
      "--------------------------------------------------\n",
      "Text: Now if he does off himself, everyone will think hes having a laugh screwing with people instead of actually dead\n",
      "Labels: ['neutral']\n",
      "--------------------------------------------------\n",
      "Text: WHY THE FUCK IS BAYLESS ISOING\n",
      "Labels: ['anger']\n",
      "--------------------------------------------------\n",
      "Text: To make her feel threatened\n",
      "Labels: ['fear']\n",
      "--------------------------------------------------\n",
      "Text: Dirty Southern Wankers\n",
      "Labels: ['annoyance']\n",
      "--------------------------------------------------\n"
     ]
    }
   ],
   "source": [
    "# Explore dataset features\n",
    "label_names = goemotions['train'].features['labels'].feature.names\n",
    "print(\"Features:\", goemotions['train'].features)\n",
    "\n",
    "# Check a sample of the data\n",
    "for i in range(5):\n",
    "    sample = goemotions['train'][i]\n",
    "    labels = [label_names[label] for label in sample['labels']]\n",
    "    print(f\"Text: {sample['text']}\")\n",
    "    print(f\"Labels: {labels}\")\n",
    "    print(\"-\" * 50)"
   ]
  },
  {
   "cell_type": "markdown",
   "metadata": {
    "id": "UN4_Jy1MZA5r"
   },
   "source": [
    "Observation:\n",
    "\n",
    "1. The dataset contains diverse textual content, including casual comments, exclamations, and conversational phrases, reflecting real-world emotion expression.\n",
    "2. Emotion labels align with expected sentiment in most cases (e.g., \"WHY THE FUCK IS BAYLESS ISOING\" appropriately labeled as 'anger').\n",
    "3. The presence of explicit language and sarcasm in some texts (e.g., \"Now if he does off himself, everyone will think he's having a laugh screwing with people\") indicates the need for careful preprocessing to handle such complexities.\n",
    "4. Neutral labels dominate certain samples where emotion is less overt, requiring robust modeling to distinguish subtle emotional cues.\n",
    "\n",
    "Inspecting sample data reveals the dataset's potential challenges, such as handling sarcasm, explicit language, and multi-label annotations."
   ]
  },
  {
   "cell_type": "markdown",
   "metadata": {
    "id": "c6-mP4ICUq_A"
   },
   "source": [
    "*Step 4: Visualize the distribution of emotion labels across training data*"
   ]
  },
  {
   "cell_type": "code",
   "execution_count": null,
   "metadata": {
    "colab": {
     "base_uri": "https://localhost:8080/",
     "height": 392
    },
    "id": "G-WB5PWJ-iYL",
    "outputId": "a5febf63-3c1e-4e8f-f888-0cf4013ccf31"
   },
   "outputs": [
    {
     "data": {
      "image/png": "[encoded data removed]",
      "text/plain": [
       "<Figure size 1200x600 with 1 Axes>"
      ]
     },
     "metadata": {},
     "output_type": "display_data"
    }
   ],
   "source": [
    "from collections import Counter\n",
    "import matplotlib.pyplot as plt\n",
    "import seaborn as sns\n",
    "\n",
    "# Get label names\n",
    "label_names = goemotions['train'].features['labels'].feature.names\n",
    "\n",
    "# Count the frequency of each label in the training set\n",
    "def label_distribution(data_split):\n",
    "    label_counts = Counter([label for sample in data_split for label in sample['labels']])\n",
    "    return {label_names[i]: label_counts[i] for i in label_counts}\n",
    "\n",
    "train_label_dist = label_distribution(goemotions['train'])\n",
    "\n",
    "# Plot the label distribution\n",
    "plt.figure(figsize=(12, 6))\n",
    "sns.barplot(x=list(train_label_dist.keys()), y=list(train_label_dist.values()))\n",
    "plt.xticks(rotation=45)\n",
    "plt.title(\"Label Distribution in Training Set\")\n",
    "plt.xlabel(\"Emotion Labels\")\n",
    "plt.ylabel(\"Frequency\")\n",
    "plt.show()"
   ]
  },
  {
   "cell_type": "markdown",
   "metadata": {
    "id": "KhWjUTrn99oF"
   },
   "source": [
    "Interpretation of the Plot:\n",
    "\n",
    "The 'neutral' label is overwhelmingly dominant, with a frequency exceeding all other emotion categories.\n",
    "This indicates a significant class imbalance in the dataset. Most of the textual data is labeled as neutral, which may bias the model towards predicting the neutral class more frequently.\n",
    "\n",
    "Emotion labels such as 'admiration', 'approval', and 'gratitude' show relatively higher frequencies compared to less frequent emotions like 'fear', 'relief', and 'nervousness'.\n",
    "Labels with lower frequencies (e.g., 'pride', 'nervousness', and 'realization') may be underrepresented during model training, leading to poorer generalization for these classes.\n",
    "\n",
    "Underrepresented emotions (e.g., 'pride' and 'relief') may result in the model failing to detect these emotions effectively, as it does not receive sufficient examples for learning their patterns.\n",
    "This suggests the need for techniques to mitigate class imbalance.\n",
    "\n",
    "Labels such as 'admiration', 'approval', and 'joy' have moderate representation, which may lead to reasonably good performance in detecting these classes.\n",
    "Their frequency provides sufficient examples for the model to learn their emotional nuances."
   ]
  },
  {
   "cell_type": "markdown",
   "metadata": {
    "id": "Vqi674RjWxxz"
   },
   "source": [
    "*Step 5: Check how many samples in the dataset have multiple labels*"
   ]
  },
  {
   "cell_type": "code",
   "execution_count": null,
   "metadata": {
    "colab": {
     "base_uri": "https://localhost:8080/"
    },
    "id": "wwEzrBxo-neC",
    "outputId": "e18210a6-bb66-4db3-ef8c-74a3e8ee4109"
   },
   "outputs": [
    {
     "name": "stdout",
     "output_type": "stream",
     "text": [
      "Number of multi-label instances in training set: 7102\n",
      "Percentage of multi-label instances: 16.36%\n"
     ]
    }
   ],
   "source": [
    "# Count multi-label instances in training set\n",
    "multi_label_count = sum(len(sample['labels']) > 1 for sample in goemotions['train'])\n",
    "print(f\"Number of multi-label instances in training set: {multi_label_count}\")\n",
    "print(f\"Percentage of multi-label instances: {multi_label_count / len(goemotions['train']):.2%}\")\n"
   ]
  },
  {
   "cell_type": "markdown",
   "metadata": {
    "id": "rjYUFQByYzoz"
   },
   "source": [
    "Multi-label instances constituted approximately 16.36% of the dataset, reflecting the complexity of overlapping emotional expressions. This guided the choice of a multi-label classification framework, ensuring that the model accommodates simultaneous emotion predictions."
   ]
  },
  {
   "cell_type": "markdown",
   "metadata": {
    "id": "82AJwurbU0U3"
   },
   "source": [
    "*Step 6: Analyze the length of the text samples for tokenization insights*"
   ]
  },
  {
   "cell_type": "code",
   "execution_count": null,
   "metadata": {
    "colab": {
     "base_uri": "https://localhost:8080/",
     "height": 508
    },
    "id": "Hp6J6YVd-tz0",
    "outputId": "82517f95-6b9f-4084-c991-3aa35ee48323"
   },
   "outputs": [
    {
     "data": {
      "image/png": "[encoded data removed]",
      "text/plain": [
       "<Figure size 640x480 with 1 Axes>"
      ]
     },
     "metadata": {},
     "output_type": "display_data"
    },
    {
     "name": "stdout",
     "output_type": "stream",
     "text": [
      "Average text length: 12.84 words\n",
      "Maximum text length: 33 words\n"
     ]
    }
   ],
   "source": [
    "import matplotlib.pyplot as plt\n",
    "\n",
    "# Text Length Analysis\n",
    "text_lengths = [len(sample['text'].split()) for sample in goemotions['train']]\n",
    "plt.hist(text_lengths, bins=30)\n",
    "plt.title(\"Text Length Distribution in Training Set\")\n",
    "plt.xlabel(\"Number of Words\")\n",
    "plt.ylabel(\"Frequency\")\n",
    "plt.show()\n",
    "\n",
    "print(f\"Average text length: {sum(text_lengths) / len(text_lengths):.2f} words\")\n",
    "print(f\"Maximum text length: {max(text_lengths)} words\")\n"
   ]
  },
  {
   "cell_type": "markdown",
   "metadata": {
    "id": "_HCgif4oY6ss"
   },
   "source": [
    "The average text length is ~12 words, and the maximum is 33 words, suggesting that truncation at 50 tokens would preserve most information."
   ]
  },
  {
   "cell_type": "markdown",
   "metadata": {
    "id": "jv-Mfq2LXO11"
   },
   "source": [
    "*Step 7: Ensure there are no missing texts or labels in the dataset*"
   ]
  },
  {
   "cell_type": "code",
   "execution_count": null,
   "metadata": {
    "colab": {
     "base_uri": "https://localhost:8080/"
    },
    "id": "lwdTE6MTXOrl",
    "outputId": "af07c3fa-42d9-4952-c5cc-f992273abce3"
   },
   "outputs": [
    {
     "name": "stdout",
     "output_type": "stream",
     "text": [
      "Missing texts in training set: 0\n",
      "Missing labels in training set: 0\n"
     ]
    }
   ],
   "source": [
    "# Check for missing texts or labels in the training set\n",
    "missing_texts = sum(sample['text'] == '' for sample in goemotions['train'])\n",
    "missing_labels = sum(len(sample['labels']) == 0 for sample in goemotions['train'])\n",
    "\n",
    "print(f\"Missing texts in training set: {missing_texts}\")\n",
    "print(f\"Missing labels in training set: {missing_labels}\")\n"
   ]
  },
  {
   "cell_type": "markdown",
   "metadata": {
    "id": "yQi5q1uEZOAp"
   },
   "source": [
    "**Data Preprocessing**\n",
    " - Objective: To prepare the dataset for classifying emotions relevant to ASD communication, ensuring preprocessing reflects potential atypical linguistic patterns, reduced expressiveness, or contextual variations.\n",
    "    - 1. Filter Target Emotions: The dataset was filtered to retain only the five target emotions: joy, sadness, anger, anxiety (fear), and neutral. This step ensured alignment with the study's focus on ASD-relevant emotional expressions.\n",
    "    - 2. Tokenize Text: DistilBERT’s tokenizer will be employed, truncating\n",
    "         inputs at 50 tokens. This length was chosen based on text length analysis, ensuring minimal loss of information.\n",
    "         Tokenization preserved unique phrasing styles characteristic of ASD communication, accommodating the dataset’s diverse linguistic patterns.\n",
    "    - 3. Handle Class Imbalance: If the dataset is imbalanced, compute class weights.\n",
    "    - 4. Prepare Datasets for Model Input: Split the dataset into training, validation, and test sets with preprocessed data."
   ]
  },
  {
   "cell_type": "markdown",
   "metadata": {
    "id": "Hhr2Y4ghbDMI"
   },
   "source": [
    "*Step 1: Filter Target Emotions*\n",
    "\n",
    "The target emotion categories (joy, sadness, anger, anxiety (fear), neutral) align well with ASD communication scenarios, as these are fundamental to understanding emotional states in various contexts."
   ]
  },
  {
   "cell_type": "code",
   "execution_count": null,
   "metadata": {
    "colab": {
     "base_uri": "https://localhost:8080/"
    },
    "id": "R-fl5yT8-345",
    "outputId": "22cdf036-03ee-41b2-b4a7-122e0e7b9776"
   },
   "outputs": [
    {
     "name": "stdout",
     "output_type": "stream",
     "text": [
      "Filtered training samples: 18906\n",
      "Filtered validation samples: 2344\n",
      "Filtered test samples: 2359\n"
     ]
    }
   ],
   "source": [
    "# Define target labels\n",
    "target_labels = ['joy', 'sadness', 'anger', 'fear', 'neutral']\n",
    "target_label_ids = [label_names.index(label) for label in target_labels]\n",
    "\n",
    "# Filter out samples that do not contain the target emotions\n",
    "def filter_target_emotions(example):\n",
    "    return any(label in target_label_ids for label in example['labels'])\n",
    "\n",
    "filtered_train = goemotions['train'].filter(filter_target_emotions)\n",
    "filtered_val = goemotions['validation'].filter(filter_target_emotions)\n",
    "filtered_test = goemotions['test'].filter(filter_target_emotions)\n",
    "\n",
    "# Check the number of samples after filtering\n",
    "print(f\"Filtered training samples: {len(filtered_train)}\")\n",
    "print(f\"Filtered validation samples: {len(filtered_val)}\")\n",
    "print(f\"Filtered test samples: {len(filtered_test)}\")"
   ]
  },
  {
   "cell_type": "markdown",
   "metadata": {
    "id": "xRjObAZgbZxC"
   },
   "source": [
    "*Step 2: Tokenize Text (Accounting for Atypical Phrasing)*\n",
    "\n",
    "Tokenization ensures that the input text is transformed appropriately for the DistilBERT model. Since ASD communication may include unique phrasing, the tokenizer should preserve as much context as possible by truncating only at the maximum sequence length"
   ]
  },
  {
   "cell_type": "code",
   "execution_count": null,
   "metadata": {
    "colab": {
     "base_uri": "https://localhost:8080/",
     "height": 87,
     "referenced_widgets": [
      "b788defa774f4921be61669cb601a95f",
      "e563b2b7bc3a48e0ba41e609ad1ede5f",
      "fb6dc31933ab4cbc9430279a8fd7fd0b",
      "49da9a3eaa8d4722a7c01b495482237b",
      "2c09f170110d4541895f56e4b1806867",
      "45838ed982154058b9f9c291bb2a86ef",
      "d8d34c9a78034766b49dfd6a514ec1c3",
      "51da5a5ab67542649b02609952b4a7fa",
      "8d20c34abcad426a9531a7598d82f71a",
      "27b5c64d4b744897b75cf80d1db2ca3a",
      "78503590416c487393d6f6f8ebdedd64"
     ]
    },
    "id": "hk5GtdP3-6dc",
    "outputId": "21652f1e-eef8-4f40-b5d3-23a8a57527d2"
   },
   "outputs": [
    {
     "data": {
      "application/vnd.jupyter.widget-view+json": {
       "model_id": "b788defa774f4921be61669cb601a95f",
       "version_major": 2,
       "version_minor": 0
      },
      "text/plain": [
       "Map:   0%|          | 0/2344 [00:00<?, ? examples/s]"
      ]
     },
     "metadata": {},
     "output_type": "display_data"
    },
    {
     "name": "stdout",
     "output_type": "stream",
     "text": [
      "Sample tokenized training data: {'text': \"My favourite food is anything I didn't have to cook myself.\", 'labels': [27], 'id': 'eebbqej', 'input_ids': [101, 2026, 8837, 2833, 2003, 2505, 1045, 2134, 1005, 1056, 2031, 2000, 5660, 2870, 1012, 102, 0, 0, 0, 0, 0, 0, 0, 0, 0, 0, 0, 0, 0, 0, 0, 0, 0, 0, 0, 0, 0, 0, 0, 0, 0, 0, 0, 0, 0, 0, 0, 0, 0, 0], 'attention_mask': [1, 1, 1, 1, 1, 1, 1, 1, 1, 1, 1, 1, 1, 1, 1, 1, 0, 0, 0, 0, 0, 0, 0, 0, 0, 0, 0, 0, 0, 0, 0, 0, 0, 0, 0, 0, 0, 0, 0, 0, 0, 0, 0, 0, 0, 0, 0, 0, 0, 0]}\n"
     ]
    }
   ],
   "source": [
    "from transformers import AutoTokenizer\n",
    "\n",
    "# Load the DistilBERT tokenizer\n",
    "tokenizer = AutoTokenizer.from_pretrained(\"distilbert-base-uncased\")\n",
    "\n",
    "# Define a tokenization function\n",
    "def tokenize_function(example):\n",
    "    return tokenizer(example[\"text\"], padding=\"max_length\", truncation=True, max_length=50)\n",
    "\n",
    "# Tokenize the dataset splits\n",
    "tokenized_train = filtered_train.map(tokenize_function, batched=True)\n",
    "tokenized_val = filtered_val.map(tokenize_function, batched=True)\n",
    "tokenized_test = filtered_test.map(tokenize_function, batched=True)\n",
    "\n",
    "# Inspect a sample of tokenized data\n",
    "print(\"Sample tokenized training data:\", tokenized_train[0])"
   ]
  },
  {
   "cell_type": "markdown",
   "metadata": {
    "id": "zxe4ZHczco37"
   },
   "source": [
    "*Step 3: Handle Class Imbalance*\n",
    "\n",
    "*ASD communication may disproportionately emphasize or suppress certain emotional categories like neutral, joy, or sadness. To improve model generalization and avoid bias towards frequent labels, we will:*"
   ]
  },
  {
   "cell_type": "code",
   "execution_count": null,
   "metadata": {
    "colab": {
     "base_uri": "https://localhost:8080/"
    },
    "id": "VWEm3QP9-9tu",
    "outputId": "92cb0a5a-892a-4cdd-c658-b669ba15a855"
   },
   "outputs": [
    {
     "name": "stdout",
     "output_type": "stream",
     "text": [
      "Class weights for ASD emotion classification: {0: 3.1154386951631046, 1: 4.396230158730159, 2: 0.5049913392287355, 3: 1.8025545069964204, 4: 2.9748925886143933, 5: 6.330571428571429, 6: 6.182198660714286, 7: 4.4707425343018565, 8: 15.516106442577032, 9: 3.4108682266009853, 10: 4.277413127413127, 11: 7.758053221288516, 12: 23.97943722943723, 13: 7.259829619921363, 14: 1.3277205177372962, 15: 6.763431013431013, 16: 32.97172619047619, 17: 0.5449872097599371, 18: 6.280328798185941, 19: 15.826428571428572, 20: 7.259829619921363, 21: 60.870879120879124, 22: 6.649759903961584, 23: 41.6484962406015, 24: 11.468426501035196, 25: 0.5967733247145012, 26: 11.304591836734694, 27: 0.05565239669255423}\n"
     ]
    }
   ],
   "source": [
    "from sklearn.utils.class_weight import compute_class_weight\n",
    "import numpy as np\n",
    "\n",
    "# Extract labels for class weight calculation\n",
    "labels = [label for sample in filtered_train for label in sample['labels']]\n",
    "class_weights = compute_class_weight('balanced', classes=np.unique(labels), y=labels)\n",
    "\n",
    "# Convert to dictionary format for use in training\n",
    "class_weights_dict = {i: weight for i, weight in enumerate(class_weights)}\n",
    "print(\"Class weights for ASD emotion classification:\", class_weights_dict)\n"
   ]
  },
  {
   "cell_type": "markdown",
   "metadata": {
    "id": "lg6SfKRR_O48"
   },
   "source": [
    "The class weights calculated for the ASD emotion classification highlight a significant imbalance in the dataset. The large variation in class weights reflects how certain emotion categories, particularly neutral (weight = 0.0556), are vastly overrepresented, while rarer emotions like remorse (23.98), pride (32.97), and nervousness (60.87) are severely underrepresented. This imbalance poses a challenge during model training, as the model tends to prioritize predicting frequent classes like neutral while underperforming on minority classes that lack sufficient examples.\n",
    "\n",
    "The extremely high class weights (e.g., nervousness: 60.87, pride: 32.97) indicate that the dataset contains very few samples for these emotions, making it difficult for the model to learn their unique linguistic patterns. Emotions like joy (3.11) and anger (0.50), on the other hand, are more moderately weighted, suggesting they are relatively better represented. However, their still low weights compared to emotions like remorse or disapproval indicate room for further balancing.\n",
    "\n",
    "This class imbalance can significantly impact model performance, leading to poor recall for underrepresented emotions. The model might predict these classes infrequently or not at all, focusing instead on the dominant neutral label."
   ]
  },
  {
   "cell_type": "markdown",
   "metadata": {
    "id": "od-J8zQg7hvX"
   },
   "source": [
    "*Step 4: Inspecting tokenized samples*"
   ]
  },
  {
   "cell_type": "code",
   "execution_count": null,
   "metadata": {
    "colab": {
     "base_uri": "https://localhost:8080/"
    },
    "id": "T5kDxEwM_BgQ",
    "outputId": "74d06774-9be8-48d6-f09a-fd9a7978bd7c"
   },
   "outputs": [
    {
     "name": "stdout",
     "output_type": "stream",
     "text": [
      "Text (tokenized): [101, 2026, 8837, 2833, 2003, 2505, 1045, 2134, 1005, 1056, 2031, 2000, 5660, 2870, 1012, 102, 0, 0, 0, 0, 0, 0, 0, 0, 0, 0, 0, 0, 0, 0, 0, 0, 0, 0, 0, 0, 0, 0, 0, 0, 0, 0, 0, 0, 0, 0, 0, 0, 0, 0]\n",
      "Labels: ['neutral']\n",
      "--------------------------------------------------\n",
      "Text (tokenized): [101, 2085, 2065, 2002, 2515, 2125, 2370, 1010, 3071, 2097, 2228, 2002, 2015, 2383, 1037, 4756, 29082, 2007, 2111, 2612, 1997, 2941, 2757, 102, 0, 0, 0, 0, 0, 0, 0, 0, 0, 0, 0, 0, 0, 0, 0, 0, 0, 0, 0, 0, 0, 0, 0, 0, 0, 0]\n",
      "Labels: ['neutral']\n",
      "--------------------------------------------------\n",
      "Text (tokenized): [101, 2339, 1996, 6616, 2003, 3016, 3238, 11163, 2075, 102, 0, 0, 0, 0, 0, 0, 0, 0, 0, 0, 0, 0, 0, 0, 0, 0, 0, 0, 0, 0, 0, 0, 0, 0, 0, 0, 0, 0, 0, 0, 0, 0, 0, 0, 0, 0, 0, 0, 0, 0]\n",
      "Labels: ['anger']\n",
      "--------------------------------------------------\n",
      "Text (tokenized): [101, 2000, 2191, 2014, 2514, 5561, 102, 0, 0, 0, 0, 0, 0, 0, 0, 0, 0, 0, 0, 0, 0, 0, 0, 0, 0, 0, 0, 0, 0, 0, 0, 0, 0, 0, 0, 0, 0, 0, 0, 0, 0, 0, 0, 0, 0, 0, 0, 0, 0, 0]\n",
      "Labels: ['fear']\n",
      "--------------------------------------------------\n",
      "Text (tokenized): [101, 2009, 2453, 2022, 5799, 2000, 1996, 3404, 5387, 1997, 2115, 2767, 1012, 102, 0, 0, 0, 0, 0, 0, 0, 0, 0, 0, 0, 0, 0, 0, 0, 0, 0, 0, 0, 0, 0, 0, 0, 0, 0, 0, 0, 0, 0, 0, 0, 0, 0, 0, 0, 0]\n",
      "Labels: ['neutral']\n",
      "--------------------------------------------------\n"
     ]
    }
   ],
   "source": [
    "# Inspect tokenized and filtered samples\n",
    "for i in range(5):\n",
    "    sample = tokenized_train[i]\n",
    "    labels = [label_names[label] for label in sample['labels']]\n",
    "    print(f\"Text (tokenized): {sample['input_ids']}\")\n",
    "    print(f\"Labels: {labels}\")\n",
    "    print(\"-\" * 50)"
   ]
  },
  {
   "cell_type": "markdown",
   "metadata": {
    "id": "AYzfe1RD_p75"
   },
   "source": [
    "Tokenization:\n",
    "  - The provided tokenized texts are sequences of integers generated using the DistilBERT tokenizer. Each integer corresponds to a specific word or subword token in the DistilBERT vocabulary. Special tokens like [101] (CLS - classification start token) and [102] (SEP - separator token) are present at the beginning and end of each sequence, respectively. Padding tokens (0) are added to ensure all sequences have a uniform length of 50 tokens. This ensures compatibility with the DistilBERT input requirements.\n",
    "\n",
    "- Examples and Observations:\n",
    "  First Example\n",
    "  Tokenized Text: [101, 2026, 8837, 2833, 2003, 2505, 1045, 2134, 1005, 1056, 2031, 2000, 5660, 2870, 1012, 102, ...]\n",
    "  Decoded: \"My favorite food is anything I didn't have to cook myself.\"\n",
    "  Label: neutral\n",
    "  Analysis:\n",
    "  This sentence expresses no overt emotional content and reflects a neutral tone. The model correctly labels it as neutral, as it lacks strong emotional cues like joy, anger, or sadness.\n",
    "\n",
    "  Fourth Example\n",
    "  Tokenized Text: [101, 2000, 2191, 2014, 2514, 5561, 102, ...]\n",
    "  Decoded: \"To make her feel threatened.\"\n",
    "  Label: fear\n",
    "  Analysis:\n",
    "  The phrase suggests a fearful context, as the idea of someone feeling threatened often aligns with fear. The model's classification as fear is appropriate given the emotional undertone.\n",
    "\n"
   ]
  },
  {
   "cell_type": "markdown",
   "metadata": {
    "id": "DMp3h0x-7u6b"
   },
   "source": [
    "*Step 5: Converting the labels to float*\n",
    "\n",
    " - Objective: The purpose of converting the labels to float is to prepare them for the multi-label classification task. In multi-label classification, each sample can belong to more than one class, and the labels need to represent the probability of belonging to each class (e.g., 0.0 or 1.0). Float conversion ensures compatibility with the loss function used for multi-label classification, such as BCEWithLogitsLoss, which requires the labels to be in a continuous numerical format.\n",
    "\n",
    " - Explanation of the Code:\n",
    "     1. Dataset Conversion:\n",
    "        The function convert_labels_to_float takes a tokenized dataset and converts its labels into a multi-hot             encoded format with float values. A multi-hot encoding represents the presence (1.0) or absence (0.0) of           each target label.\n",
    "        \n",
    "     2.  Initialization:\n",
    "         The converted_data dictionary is initialized to store the input IDs, attention masks, and processed labels          in the required format.\n",
    "\n",
    "     3.  Label Conversion:\n",
    "        For each example in the dataset:\n",
    "        The input IDs and attention masks are appended to their respective lists in the converted_data dictionary.\n",
    "        The labels field is converted to a list of float values, where each value corresponds to whether a target          label is present (1.0) or absent (0.0) in the original label list.\n",
    "\n",
    "     4.  Dataset Creation:\n",
    "        The converted data is transformed into a new dataset object using Dataset.from_dict.\n",
    "\n",
    "     5.  PyTorch Compatibility:\n",
    "        The set_format method specifies the data structure for PyTorch, ensuring that input_ids, attention_mask,           and labels are formatted as tensors.\n"
   ]
  },
  {
   "cell_type": "code",
   "execution_count": null,
   "metadata": {
    "colab": {
     "base_uri": "https://localhost:8080/"
    },
    "id": "0PIO3xPo_E2E",
    "outputId": "853623ee-a4c2-4cf8-b4c4-4205bb5ceaf6"
   },
   "outputs": [
    {
     "name": "stdout",
     "output_type": "stream",
     "text": [
      "Sample train labels: tensor([0., 0., 0., 0., 1.])\n",
      "Label data type (train): torch.float32\n"
     ]
    }
   ],
   "source": [
    "from datasets import Dataset\n",
    "\n",
    "# Convert labels to float and create a new dataset\n",
    "def convert_labels_to_float(dataset):\n",
    "    converted_data = {\n",
    "        \"input_ids\": [],\n",
    "        \"attention_mask\": [],\n",
    "        \"labels\": [],\n",
    "    }\n",
    "    for example in dataset:\n",
    "        converted_data[\"input_ids\"].append(example[\"input_ids\"])\n",
    "        converted_data[\"attention_mask\"].append(example[\"attention_mask\"])\n",
    "        converted_data[\"labels\"].append([float(label in example[\"labels\"]) for label in target_label_ids])\n",
    "    return Dataset.from_dict(converted_data)\n",
    "\n",
    "train_dataset = convert_labels_to_float(tokenized_train)\n",
    "val_dataset = convert_labels_to_float(tokenized_val)\n",
    "test_dataset = convert_labels_to_float(tokenized_test)\n",
    "\n",
    "# Set format for PyTorch\n",
    "train_dataset.set_format(type=\"torch\", columns=[\"input_ids\", \"attention_mask\", \"labels\"])\n",
    "val_dataset.set_format(type=\"torch\", columns=[\"input_ids\", \"attention_mask\", \"labels\"])\n",
    "test_dataset.set_format(type=\"torch\", columns=[\"input_ids\", \"attention_mask\", \"labels\"])\n",
    "\n",
    "# Verify labels are converted correctly\n",
    "print(\"Sample train labels:\", train_dataset[0][\"labels\"])\n",
    "print(\"Label data type (train):\", train_dataset[0][\"labels\"].dtype)\n"
   ]
  },
  {
   "cell_type": "markdown",
   "metadata": {
    "id": "2sk5ZwJZD33O"
   },
   "source": [
    "**Model and Training**"
   ]
  },
  {
   "cell_type": "markdown",
   "metadata": {
    "id": "JZw877edB0l7"
   },
   "source": [
    "Objective:\n",
    "  To train and evaluate a fine-tuned DistilBERT model for multi-label emotion classification using custom metrics like accuracy, F1-score, precision, and recall.\n",
    "\n",
    " - Key Steps\n",
    "    - 1. Model Loading:\n",
    "    Load the pre-trained DistilBERT model for sequence classification.\n",
    "    Configure the model for multi-label classification using problem_type=\"multi_label_classification\".\n",
    "    Adapt the model to predict the specified number of emotion labels.\n",
    "      2. Training Configuration (TrainingArguments):\n",
    "   Specifies key training hyperparameters:\n",
    "   Learning Rate: 5e-5 for stable training.\n",
    "   Batch Size: 16 per device for both training and evaluation.\n",
    "   Number of Epochs: 3 to balance training time and model performance.\n",
    "   Weight Decay: 0.01 for regularization to prevent overfitting.\n",
    "   Evaluation Strategy: Evaluates the model at the end of each epoch.\n",
    "   Save Strategy: Saves the model at each epoch to retain the best-performing version.\n",
    "   Load Best Model: Loads the best model at the end of training based on evaluation metrics.\n",
    "      3. Trainer Initialization:\n",
    "       Initializes the Hugging Face Trainer class, which handles the model training pipeline.\n",
    "   Connects the following:\n",
    "   Model: DistilBERT fine-tuned for multi-label classification.\n",
    "   Arguments: Training configurations.\n",
    "   Datasets: Training and validation datasets.\n",
    "   Tokenizer: Converts raw text into input IDs and attention masks for DistilBERT.\n",
    "   Metrics Function: Custom evaluation metrics for performance monitoring.\n",
    "      4. Model Evaluation:\n",
    "   Evaluates the trained model on the validation dataset.\n",
    "   Computes and prints evaluation metrics like accuracy, F1-score, precision, and recall"
   ]
  },
  {
   "cell_type": "code",
   "execution_count": null,
   "metadata": {
    "colab": {
     "base_uri": "https://localhost:8080/",
     "height": 334
    },
    "id": "DSSTB4BA_L-a",
    "outputId": "406cc2bc-bc48-4ef6-cf40-c79ea78bedd5"
   },
   "outputs": [
    {
     "name": "stderr",
     "output_type": "stream",
     "text": [
      "Some weights of DistilBertForSequenceClassification were not initialized from the model checkpoint at distilbert-base-uncased and are newly initialized: ['classifier.bias', 'classifier.weight', 'pre_classifier.bias', 'pre_classifier.weight']\n",
      "You should probably TRAIN this model on a down-stream task to be able to use it for predictions and inference.\n",
      "Using the `WANDB_DISABLED` environment variable is deprecated and will be removed in v5. Use the --report_to flag to control the integrations used for logging result (for instance --report_to none).\n",
      "<ipython-input-31-47b7c5ff8eea>:55: FutureWarning: `tokenizer` is deprecated and will be removed in version 5.0.0 for `Trainer.__init__`. Use `processing_class` instead.\n",
      "  trainer = Trainer(\n"
     ]
    },
    {
     "data": {
      "text/html": [
       "\n",
       "    <div>\n",
       "      \n",
       "      <progress value='3546' max='3546' style='width:300px; height:20px; vertical-align: middle;'></progress>\n",
       "      [3546/3546 05:42, Epoch 3/3]\n",
       "    </div>\n",
       "    <table border=\"1\" class=\"dataframe\">\n",
       "  <thead>\n",
       " <tr style=\"text-align: left;\">\n",
       "      <th>Epoch</th>\n",
       "      <th>Training Loss</th>\n",
       "      <th>Validation Loss</th>\n",
       "      <th>Accuracy</th>\n",
       "      <th>F1</th>\n",
       "      <th>Precision</th>\n",
       "      <th>Recall</th>\n",
       "    </tr>\n",
       "  </thead>\n",
       "  <tbody>\n",
       "    <tr>\n",
       "      <td>1</td>\n",
       "      <td>0.155300</td>\n",
       "      <td>0.147584</td>\n",
       "      <td>0.862628</td>\n",
       "      <td>0.866405</td>\n",
       "      <td>0.874321</td>\n",
       "      <td>0.866019</td>\n",
       "    </tr>\n",
       "    <tr>\n",
       "      <td>2</td>\n",
       "      <td>0.102500</td>\n",
       "      <td>0.157652</td>\n",
       "      <td>0.847696</td>\n",
       "      <td>0.865108</td>\n",
       "      <td>0.871774</td>\n",
       "      <td>0.861792</td>\n",
       "    </tr>\n",
       "    <tr>\n",
       "      <td>3</td>\n",
       "      <td>0.052700</td>\n",
       "      <td>0.174011</td>\n",
       "      <td>0.855375</td>\n",
       "      <td>0.867619</td>\n",
       "      <td>0.871715</td>\n",
       "      <td>0.864751</td>\n",
       "    </tr>\n",
       "  </tbody>\n",
       "</table><p>"
      ],
      "text/plain": [
       "<IPython.core.display.HTML object>"
      ]
     },
     "metadata": {},
     "output_type": "display_data"
    },
    {
     "data": {
      "text/html": [
       "\n",
       "    <div>\n",
       "      \n",
       "      <progress value='147' max='147' style='width:300px; height:20px; vertical-align: middle;'></progress>\n",
       "      [147/147 00:03]\n",
       "    </div>\n",
       "    "
      ],
      "text/plain": [
       "<IPython.core.display.HTML object>"
      ]
     },
     "metadata": {},
     "output_type": "display_data"
    },
    {
     "name": "stdout",
     "output_type": "stream",
     "text": [
      "Evaluation Results: {'eval_loss': 0.14758434891700745, 'eval_accuracy': 0.8626279863481229, 'eval_f1': 0.8664049329817033, 'eval_precision': 0.8743209657133005, 'eval_recall': 0.8660185967878276, 'eval_runtime': 3.6344, 'eval_samples_per_second': 644.955, 'eval_steps_per_second': 40.447, 'epoch': 3.0}\n"
     ]
    }
   ],
   "source": [
    "from transformers import DistilBertForSequenceClassification, TrainingArguments, Trainer\n",
    "import torch\n",
    "import os\n",
    "from sklearn.metrics import f1_score, accuracy_score, precision_score, recall_score\n",
    "import numpy as np\n",
    "\n",
    "# Disable W&B logging if not needed\n",
    "os.environ[\"WANDB_DISABLED\"] = \"true\"\n",
    "\n",
    "# Load the model\n",
    "model = DistilBertForSequenceClassification.from_pretrained(\n",
    "    \"distilbert-base-uncased\",\n",
    "    num_labels=len(target_label_ids),\n",
    "    problem_type=\"multi_label_classification\"\n",
    ")\n",
    "model.to(torch.device(\"cuda\" if torch.cuda.is_available() else \"cpu\"))\n",
    "\n",
    "# Define compute_metrics function\n",
    "def compute_metrics(eval_pred):\n",
    "    \"\"\"\n",
    "    Computes evaluation metrics: accuracy, precision, recall, and F1 score.\n",
    "    \"\"\"\n",
    "    logits, labels = eval_pred  # Extract predictions and labels\n",
    "    predictions = (torch.sigmoid(torch.tensor(logits)) > 0.5).numpy().astype(int)  # Threshold for multi-label classification\n",
    "\n",
    "    # Calculate metrics\n",
    "    accuracy = accuracy_score(labels, predictions)\n",
    "    f1 = f1_score(labels, predictions, average=\"weighted\")\n",
    "    precision = precision_score(labels, predictions, average=\"weighted\")\n",
    "    recall = recall_score(labels, predictions, average=\"weighted\")\n",
    "\n",
    "    return {\n",
    "        \"accuracy\": accuracy,\n",
    "        \"f1\": f1,\n",
    "        \"precision\": precision,\n",
    "        \"recall\": recall\n",
    "    }\n",
    "\n",
    "# Training arguments with updated parameters\n",
    "training_args = TrainingArguments(\n",
    "    output_dir=\"./results\",\n",
    "    eval_strategy=\"epoch\",\n",
    "    save_strategy=\"epoch\",\n",
    "    learning_rate=5e-5,\n",
    "    per_device_train_batch_size=16,\n",
    "    per_device_eval_batch_size=16,\n",
    "    num_train_epochs=3,\n",
    "    weight_decay=0.01,\n",
    "    logging_dir=\"./logs\",\n",
    "    load_best_model_at_end=True,\n",
    "    run_name=\"ASD_emotion_model\"\n",
    ")\n",
    "\n",
    "# Trainer initialization\n",
    "trainer = Trainer(\n",
    "    model=model,\n",
    "    args=training_args,\n",
    "    train_dataset=train_dataset,\n",
    "    eval_dataset=val_dataset,\n",
    "    tokenizer=tokenizer,\n",
    "    compute_metrics=compute_metrics\n",
    ")\n",
    "\n",
    "# Train and evaluate\n",
    "trainer.train()\n",
    "results = trainer.evaluate()\n",
    "print(\"Evaluation Results:\", results)\n"
   ]
  },
  {
   "cell_type": "code",
   "execution_count": null,
   "metadata": {
    "colab": {
     "base_uri": "https://localhost:8080/",
     "height": 73
    },
    "id": "RSUxNBcYIHO4",
    "outputId": "bbd6bdb9-eee9-4a44-c632-2058e2da6711"
   },
   "outputs": [
    {
     "data": {
      "text/html": [],
      "text/plain": [
       "<IPython.core.display.HTML object>"
      ]
     },
     "metadata": {},
     "output_type": "display_data"
    },
    {
     "name": "stdout",
     "output_type": "stream",
     "text": [
      "Test Results: {'accuracy': 0.8770665536244171, 'f1': 0.8819054528164713, 'precision': 0.8896528761581246, 'recall': 0.8815126050420168}\n",
      "Model and tokenizer saved successfully.\n"
     ]
    }
   ],
   "source": [
    "# Test the model\n",
    "predictions = trainer.predict(test_dataset)\n",
    "test_metrics = compute_metrics((predictions.predictions, predictions.label_ids))\n",
    "print(\"Test Results:\", test_metrics)\n",
    "\n",
    "# Save the model\n",
    "model.save_pretrained(\"./fine_tuned_distilbert\")\n",
    "tokenizer.save_pretrained(\"./fine_tuned_distilbert\")\n",
    "print(\"Model and tokenizer saved successfully.\")"
   ]
  },
  {
   "cell_type": "markdown",
   "metadata": {
    "id": "GRrMP1FoONBQ"
   },
   "source": [
    "# Dicussion\n",
    "\n",
    " **Analysis and Visualization**\n",
    "  - 1.  Confusion Matrix\n",
    "        Objective: To visualize the model's performance in distinguishing each target emotion category. The confusion matrix helps identify misclassifications and areas of improvement."
   ]
  },
  {
   "cell_type": "code",
   "execution_count": null,
   "metadata": {
    "colab": {
     "base_uri": "https://localhost:8080/",
     "height": 1000
    },
    "id": "kcK9c1C-OMzq",
    "outputId": "249fb0d0-729a-475d-f09e-fb15f61d2f94"
   },
   "outputs": [
    {
     "data": {
      "image/png": "[encoded data removed]",
      "text/plain": [
       "<Figure size 640x480 with 2 Axes>"
      ]
     },
     "metadata": {},
     "output_type": "display_data"
    },
    {
     "data": {
      "image/png": "[encoded data removed]",
      "text/plain": [
       "<Figure size 640x480 with 2 Axes>"
      ]
     },
     "metadata": {},
     "output_type": "display_data"
    },
    {
     "data": {
      "image/png": "[encoded data removed]",
      "text/plain": [
       "<Figure size 640x480 with 2 Axes>"
      ]
     },
     "metadata": {},
     "output_type": "display_data"
    },
    {
     "data": {
      "image/png": "[encoded data removed]",
      "text/plain": [
       "<Figure size 640x480 with 2 Axes>"
      ]
     },
     "metadata": {},
     "output_type": "display_data"
    },
    {
     "data": {
      "image/png": "[encoded data removed]",
      "text/plain": [
       "<Figure size 640x480 with 2 Axes>"
      ]
     },
     "metadata": {},
     "output_type": "display_data"
    }
   ],
   "source": [
    "from sklearn.metrics import confusion_matrix, ConfusionMatrixDisplay\n",
    "import matplotlib.pyplot as plt\n",
    "\n",
    "# Generate predictions and ground truth\n",
    "logits = predictions.predictions\n",
    "y_true = predictions.label_ids\n",
    "y_pred = (logits > 0.5).astype(int)\n",
    "\n",
    "# Generate and display confusion matrices for each emotion\n",
    "for i, label in enumerate(target_labels):\n",
    "    cm = confusion_matrix(y_true[:, i], y_pred[:, i])\n",
    "    disp = ConfusionMatrixDisplay(confusion_matrix=cm, display_labels=[\"Not \" + label, label])\n",
    "    disp.plot(cmap='Blues', values_format='d')\n",
    "    plt.title(f\"Confusion Matrix for {label}\")\n",
    "    plt.show()\n"
   ]
  },
  {
   "cell_type": "markdown",
   "metadata": {
    "id": "9rcAXQszO5XZ"
   },
   "source": [
    "The confusion matrices for the five target emotions—neutral, joy, sadness, anger, and fear—highlight the model's strengths and areas for improvement. For neutral, the model performs exceptionally well, achieving 1696 true positives with 91 false negatives, though 152 false positives suggest slight challenges in differentiating borderline cases. In detecting joy, the model demonstrates strong precision, as evidenced by only 15 false positives, but struggles slightly with recall, with 40 false negatives where true joy samples were missed. For sadness, while the precision remains moderate, the model encounters significant recall issues, with 61 false negatives and 18 false positives, indicating difficulty in identifying subtle or nuanced sadness expressions. The anger category shows the greatest challenge, as 102 false negatives suggest the model frequently misses angry expressions, despite maintaining relatively low false positives. Similarly, for fear, the model achieves high precision with only 5 false positives but moderate recall due to 25 false negatives.\n",
    "\n",
    "Overall, the model excels in precision across most categories, particularly for neutral and joy, but recall remains a limitation, especially for sadness, anger, and fear. This imbalance points to the need for further optimization to reduce false negatives and improve the detection of more nuanced emotional expressions. To address these challenges, class imbalance can be mitigated through techniques like oversampling, undersampling, or applying weighted loss functions. Additionally, hyperparameter tuning and detailed error analysis of misclassified examples can help uncover linguistic patterns that contribute to the errors. Incorporating ensemble models or context-specific features may further enhance the model's ability to capture subtle emotional cues, leading to more balanced and accurate performance across all target emotions."
   ]
  },
  {
   "cell_type": "markdown",
   "metadata": {
    "id": "kjP1X5nJO6R1"
   },
   "source": [
    "2. Classification Report\n",
    "     - Objective: Provide detailed metrics (precision, recall, F1-score) for each emotion to quantitatively evaluate performance."
   ]
  },
  {
   "cell_type": "code",
   "execution_count": null,
   "metadata": {
    "colab": {
     "base_uri": "https://localhost:8080/"
    },
    "id": "4vwjImHBO6qI",
    "outputId": "24543af3-f1d5-4890-d89f-8d97dec569ab"
   },
   "outputs": [
    {
     "name": "stdout",
     "output_type": "stream",
     "text": [
      "Classification Report:\n",
      "               precision    recall  f1-score   support\n",
      "\n",
      "         joy       0.89      0.75      0.81       161\n",
      "     sadness       0.84      0.61      0.71       156\n",
      "       anger       0.78      0.46      0.58       198\n",
      "        fear       0.91      0.68      0.78        78\n",
      "     neutral       0.92      0.95      0.93      1787\n",
      "\n",
      "   micro avg       0.91      0.86      0.88      2380\n",
      "   macro avg       0.87      0.69      0.76      2380\n",
      "weighted avg       0.90      0.86      0.88      2380\n",
      " samples avg       0.87      0.87      0.87      2380\n",
      "\n"
     ]
    },
    {
     "name": "stderr",
     "output_type": "stream",
     "text": [
      "/usr/local/lib/python3.10/dist-packages/sklearn/metrics/_classification.py:1531: UndefinedMetricWarning: Precision is ill-defined and being set to 0.0 in samples with no predicted labels. Use `zero_division` parameter to control this behavior.\n",
      "  _warn_prf(average, modifier, f\"{metric.capitalize()} is\", len(result))\n"
     ]
    }
   ],
   "source": [
    "from sklearn.metrics import classification_report\n",
    "\n",
    "# Generate classification report\n",
    "report = classification_report(y_true, y_pred, target_names=target_labels)\n",
    "print(\"Classification Report:\\n\", report)\n"
   ]
  },
  {
   "cell_type": "markdown",
   "metadata": {
    "id": "cpeX-J4VPEdg"
   },
   "source": [
    "The classification report provides a detailed evaluation of the model's performance across the five target emotion classes: joy, sadness, anger, fear, and neutral. The neutral class demonstrates the strongest performance, with a precision of 0.92, recall of 0.95, and an excellent F1-score of 0.93, reflecting the model's ability to accurately identify this dominant category. For joy, the model achieves a high precision of 0.89 but experiences a drop in recall to 0.75, indicating that while predictions are accurate, a notable number of true joy samples are missed. Similarly, sadness shows strong precision at 0.84 but struggles with recall (0.61), resulting in an F1-score of 0.71, highlighting challenges in detecting this emotion accurately.\n",
    "\n",
    "The anger class exhibits the weakest performance, with precision at 0.78 but a recall of only 0.46, leading to a lower F1-score of 0.58. This suggests the model struggles significantly to identify true anger instances, likely due to subtle or ambiguous expressions of anger. For fear, precision remains high at 0.91, but the recall of 0.68 brings down the F1-score to 0.78, indicating the model's tendency to miss some fear samples despite strong predictive confidence.\n",
    "\n",
    "On an aggregate level, the micro-average and weighted-average F1-scores stand at 0.88, demonstrating the model's overall effectiveness, which is largely driven by the dominance of the neutral class. However, the macro-average F1-score of 0.76 reveals performance disparities, particularly for the minority classes—sadness, anger, and fear—where recall remains the primary limitation.\n",
    "\n",
    "Addressing these recall deficiencies for underrepresented emotions is critical to achieving balanced performance. Techniques such as class balancing through oversampling, undersampling, or weighted loss functions, combined with further fine-tuning and targeted error analysis, could significantly improve recall and enhance the model's ability to identify all target emotions effectively."
   ]
  },
  {
   "cell_type": "markdown",
   "metadata": {
    "id": "0IkQNCzsPEww"
   },
   "source": [
    "3. LIME Explanations for Interpretability\n",
    "  - Objective: Use LIME (Local Interpretable Model-Agnostic Explanations) to interpret the model’s predictions by analyzing the importance of individual features within the context of multi-label classification."
   ]
  },
  {
   "cell_type": "code",
   "execution_count": null,
   "metadata": {
    "colab": {
     "base_uri": "https://localhost:8080/",
     "height": 1000
    },
    "id": "Fgx5stE4PFe0",
    "outputId": "8928327a-5e50-4057-8278-385d40196377"
   },
   "outputs": [
    {
     "name": "stdout",
     "output_type": "stream",
     "text": [
      "Collecting lime\n",
      "  Downloading lime-0.2.0.1.tar.gz (275 kB)\n",
      "\u001b[2K     \u001b[90m━━━━━━━━━━━━━━━━━━━━━━━━━━━━━━━━━━━━━━━━\u001b[0m \u001b[32m275.7/275.7 kB\u001b[0m \u001b[31m6.9 MB/s\u001b[0m eta \u001b[36m0:00:00\u001b[0m\n",
      "\u001b[?25h  Preparing metadata (setup.py) ... \u001b[?25l\u001b[?25hdone\n",
      "Requirement already satisfied: matplotlib in /usr/local/lib/python3.10/dist-packages (from lime) (3.8.0)\n",
      "Requirement already satisfied: numpy in /usr/local/lib/python3.10/dist-packages (from lime) (1.26.4)\n",
      "Requirement already satisfied: scipy in /usr/local/lib/python3.10/dist-packages (from lime) (1.13.1)\n",
      "Requirement already satisfied: tqdm in /usr/local/lib/python3.10/dist-packages (from lime) (4.66.6)\n",
      "Requirement already satisfied: scikit-learn>=0.18 in /usr/local/lib/python3.10/dist-packages (from lime) (1.5.2)\n",
      "Requirement already satisfied: scikit-image>=0.12 in /usr/local/lib/python3.10/dist-packages (from lime) (0.24.0)\n",
      "Requirement already satisfied: networkx>=2.8 in /usr/local/lib/python3.10/dist-packages (from scikit-image>=0.12->lime) (3.4.2)\n",
      "Requirement already satisfied: pillow>=9.1 in /usr/local/lib/python3.10/dist-packages (from scikit-image>=0.12->lime) (11.0.0)\n",
      "Requirement already satisfied: imageio>=2.33 in /usr/local/lib/python3.10/dist-packages (from scikit-image>=0.12->lime) (2.36.1)\n",
      "Requirement already satisfied: tifffile>=2022.8.12 in /usr/local/lib/python3.10/dist-packages (from scikit-image>=0.12->lime) (2024.9.20)\n",
      "Requirement already satisfied: packaging>=21 in /usr/local/lib/python3.10/dist-packages (from scikit-image>=0.12->lime) (24.2)\n",
      "Requirement already satisfied: lazy-loader>=0.4 in /usr/local/lib/python3.10/dist-packages (from scikit-image>=0.12->lime) (0.4)\n",
      "Requirement already satisfied: joblib>=1.2.0 in /usr/local/lib/python3.10/dist-packages (from scikit-learn>=0.18->lime) (1.4.2)\n",
      "Requirement already satisfied: threadpoolctl>=3.1.0 in /usr/local/lib/python3.10/dist-packages (from scikit-learn>=0.18->lime) (3.5.0)\n",
      "Requirement already satisfied: contourpy>=1.0.1 in /usr/local/lib/python3.10/dist-packages (from matplotlib->lime) (1.3.1)\n",
      "Requirement already satisfied: cycler>=0.10 in /usr/local/lib/python3.10/dist-packages (from matplotlib->lime) (0.12.1)\n",
      "Requirement already satisfied: fonttools>=4.22.0 in /usr/local/lib/python3.10/dist-packages (from matplotlib->lime) (4.55.3)\n",
      "Requirement already satisfied: kiwisolver>=1.0.1 in /usr/local/lib/python3.10/dist-packages (from matplotlib->lime) (1.4.7)\n",
      "Requirement already satisfied: pyparsing>=2.3.1 in /usr/local/lib/python3.10/dist-packages (from matplotlib->lime) (3.2.0)\n",
      "Requirement already satisfied: python-dateutil>=2.7 in /usr/local/lib/python3.10/dist-packages (from matplotlib->lime) (2.8.2)\n",
      "Requirement already satisfied: six>=1.5 in /usr/local/lib/python3.10/dist-packages (from python-dateutil>=2.7->matplotlib->lime) (1.17.0)\n",
      "Building wheels for collected packages: lime\n",
      "  Building wheel for lime (setup.py) ... \u001b[?25l\u001b[?25hdone\n",
      "  Created wheel for lime: filename=lime-0.2.0.1-py3-none-any.whl size=283834 sha256=98917b4862d9fe9e875836f0e5b996dad39f71a7ea6fb4c9d67db706ec511920\n",
      "  Stored in directory: /root/.cache/pip/wheels/fd/a2/af/9ac0a1a85a27f314a06b39e1f492bee1547d52549a4606ed89\n",
      "Successfully built lime\n",
      "Installing collected packages: lime\n",
      "Successfully installed lime-0.2.0.1\n",
      "\n",
      "Prediction Probabilities:\n",
      "joy: 0.03\n",
      "sadness: 0.04\n",
      "anger: 0.01\n",
      "fear: 0.92\n",
      "neutral: 0.06\n",
      "\n",
      "Text with Highlighted Words:\n",
      "scared: -0.35 (negative)\n",
      "overwhelmed: 0.19 (positive)\n",
      "I: 0.08 (positive)\n",
      "feel: 0.08 (positive)\n",
      "out: 0.05 (positive)\n",
      "and: 0.03 (positive)\n",
      "about: -0.02 (negative)\n",
      "going: 0.02 (positive)\n",
      "today: 0.00 (positive)\n"
     ]
    },
    {
     "data": {
      "image/png": "[encoded data removed]",
      "text/plain": [
       "<Figure size 1000x600 with 1 Axes>"
      ]
     },
     "metadata": {},
     "output_type": "display_data"
    }
   ],
   "source": [
    "!pip install lime\n",
    "\n",
    "import lime\n",
    "import lime.lime_text\n",
    "import matplotlib.pyplot as plt\n",
    "\n",
    "# Define a prediction function for LIME\n",
    "def predict_probabilities(texts):\n",
    "    inputs = tokenizer(texts, return_tensors=\"pt\", padding=True, truncation=True, max_length=50)\n",
    "    inputs = {k: v.to(model.device) for k, v in inputs.items()}\n",
    "    with torch.no_grad():\n",
    "        outputs = model(**inputs)\n",
    "    return torch.sigmoid(outputs.logits).cpu().numpy()\n",
    "\n",
    "# Initialize LIME Text Explainer\n",
    "explainer = lime.lime_text.LimeTextExplainer(class_names=target_labels)\n",
    "\n",
    "# Example text input\n",
    "text_input = \"I feel overwhelmed and scared about going out today.\"\n",
    "\n",
    "# Generate explanation\n",
    "exp = explainer.explain_instance(\n",
    "    text_instance=text_input,\n",
    "    classifier_fn=predict_probabilities,\n",
    "    num_features=10\n",
    ")\n",
    "\n",
    "# Get prediction probabilities\n",
    "probabilities = predict_probabilities([text_input])[0]\n",
    "print(\"\\nPrediction Probabilities:\")\n",
    "for label, prob in zip(target_labels, probabilities):\n",
    "    print(f\"{label}: {prob:.2f}\")\n",
    "\n",
    "# Highlight words contributing to the prediction\n",
    "print(\"\\nText with Highlighted Words:\")\n",
    "highlighted_text = exp.as_list()\n",
    "for word, weight in highlighted_text:\n",
    "    color = \"positive\" if weight > 0 else \"negative\"\n",
    "    print(f\"{word}: {weight:.2f} ({color})\")\n",
    "\n",
    "# Visualization with LIME\n",
    "fig = exp.as_pyplot_figure()\n",
    "fig.patch.set_facecolor('white')\n",
    "plt.gcf().set_size_inches(10, 6)\n",
    "plt.rcParams.update({'font.size': 12})\n",
    "plt.tight_layout()\n",
    "plt.show()\n",
    "\n",
    "\n",
    "\n",
    "\n",
    "\n",
    "\n",
    "\n",
    "\n"
   ]
  },
  {
   "cell_type": "markdown",
   "metadata": {
    "id": "IMPcblQYcJDj"
   },
   "source": [
    "The LIME explanation and prediction results provide insights into the model's classification of the input text: \"I feel overwhelmed and scared about going out today.\" The prediction probabilities reveal that the model confidently identifies fear as the dominant emotion, with a probability of 90%, while other emotions, such as joy, sadness, anger, and neutral, remain notably low (ranging between 2% and 7%).\n",
    "\n",
    " The word \"scared\" has the most significant negative impact (-0.47), strongly reinforcing a fearful tone in the text. Conversely, the word \"overwhelmed\" contributes positively (0.23), signaling emotional distress, which aligns with fear-related contexts. Words such as \"feel\" (0.06), \"I\" (0.05), and \"out\" (0.05) provide smaller positive contributions, collectively adding to the emotional interpretation of the sentence.\n",
    "\n",
    "Interestingly, the word \"about\" has a slight negative contribution (-0.03), suggesting that the model deems it less relevant to the fear classification. Neutral words like \"today\" and \"and\" exert minimal influence, as evidenced by their near-zero contributions.\n",
    "\n",
    "In summary, the model's classification is driven primarily by emotionally salient words, particularly \"scared\" and \"overwhelmed\", which signal fear and distress. The LIME visualization confirms that the model effectively identifies and weighs key emotional triggers, while filtering out less impactful words, leading to an accurate prediction of the fear emotion."
   ]
  },
  {
   "cell_type": "markdown",
   "metadata": {
    "id": "-2-hX0WTed_8"
   },
   "source": [
    "**Testing the model with real online forums(e.g, Reddit)**\n",
    "\n",
    "    - !pip install praw: Installs the praw library, a Python wrapper for the Reddit API.\n",
    "      import praw: Imports the praw library to interact with the Reddit API.\n",
    "      reddit = praw.Reddit(...):\n",
    "    - Initializes the Reddit API client.\n",
    "    - client_id: Unique identifier for the Reddit application.\n",
    "    - client_secret: Secret key for the Reddit application.\n",
    "    - user_agent: Identifies the application making requests to Reddit.\n",
    "\n",
    "\n",
    "\n",
    "\n"
   ]
  },
  {
   "cell_type": "code",
   "execution_count": null,
   "metadata": {
    "colab": {
     "base_uri": "https://localhost:8080/"
    },
    "id": "FJ_px_fkeegk",
    "outputId": "c32b938d-0994-4d8a-8e5e-9c2bca37bea9"
   },
   "outputs": [
    {
     "name": "stdout",
     "output_type": "stream",
     "text": [
      "Collecting praw\n",
      "  Downloading praw-7.8.1-py3-none-any.whl.metadata (9.4 kB)\n",
      "Collecting prawcore<3,>=2.4 (from praw)\n",
      "  Downloading prawcore-2.4.0-py3-none-any.whl.metadata (5.0 kB)\n",
      "Collecting update_checker>=0.18 (from praw)\n",
      "  Downloading update_checker-0.18.0-py3-none-any.whl.metadata (2.3 kB)\n",
      "Requirement already satisfied: websocket-client>=0.54.0 in /usr/local/lib/python3.10/dist-packages (from praw) (1.8.0)\n",
      "Requirement already satisfied: requests<3.0,>=2.6.0 in /usr/local/lib/python3.10/dist-packages (from prawcore<3,>=2.4->praw) (2.32.3)\n",
      "Requirement already satisfied: charset-normalizer<4,>=2 in /usr/local/lib/python3.10/dist-packages (from requests<3.0,>=2.6.0->prawcore<3,>=2.4->praw) (3.4.0)\n",
      "Requirement already satisfied: idna<4,>=2.5 in /usr/local/lib/python3.10/dist-packages (from requests<3.0,>=2.6.0->prawcore<3,>=2.4->praw) (3.10)\n",
      "Requirement already satisfied: urllib3<3,>=1.21.1 in /usr/local/lib/python3.10/dist-packages (from requests<3.0,>=2.6.0->prawcore<3,>=2.4->praw) (2.2.3)\n",
      "Requirement already satisfied: certifi>=2017.4.17 in /usr/local/lib/python3.10/dist-packages (from requests<3.0,>=2.6.0->prawcore<3,>=2.4->praw) (2024.8.30)\n",
      "Downloading praw-7.8.1-py3-none-any.whl (189 kB)\n",
      "\u001b[2K   \u001b[90m━━━━━━━━━━━━━━━━━━━━━━━━━━━━━━━━━━━━━━━━\u001b[0m \u001b[32m189.3/189.3 kB\u001b[0m \u001b[31m7.1 MB/s\u001b[0m eta \u001b[36m0:00:00\u001b[0m\n",
      "\u001b[?25hDownloading prawcore-2.4.0-py3-none-any.whl (17 kB)\n",
      "Downloading update_checker-0.18.0-py3-none-any.whl (7.0 kB)\n",
      "Installing collected packages: update_checker, prawcore, praw\n",
      "Successfully installed praw-7.8.1 prawcore-2.4.0 update_checker-0.18.0\n",
      "Reddit API successfully connected!\n"
     ]
    }
   ],
   "source": [
    "!pip install praw\n",
    "\n",
    "import praw\n",
    "\n",
    "# Initialize Reddit API with credentials\n",
    "reddit = praw.Reddit(\n",
    "    client_id=\"RDM4LWUlC2InXK078WLrRg\",\n",
    "    client_secret=\"Ohu5nCoTYm7aYNrOReEguvfD9Af6xw\",\n",
    "    user_agent=\"AutismTextAnalysis by Ok-Pineapple-7055\"\n",
    ")\n",
    "\n",
    "# Verify successful connection\n",
    "print(\"Reddit API successfully connected!\")\n"
   ]
  },
  {
   "cell_type": "code",
   "execution_count": null,
   "metadata": {
    "colab": {
     "base_uri": "https://localhost:8080/"
    },
    "id": "HAc6yG64euIe",
    "outputId": "68d08f75-686f-4258-cc3f-7a6dbff77270"
   },
   "outputs": [
    {
     "name": "stderr",
     "output_type": "stream",
     "text": [
      "WARNING:praw:It appears that you are using PRAW in an asynchronous environment.\n",
      "It is strongly recommended to use Async PRAW: https://asyncpraw.readthedocs.io.\n",
      "See https://praw.readthedocs.io/en/latest/getting_started/multiple_instances.html#discord-bots-and-asynchronous-environments for more info.\n",
      "\n"
     ]
    },
    {
     "name": "stdout",
     "output_type": "stream",
     "text": [
      "Collected 10 posts from r/autism:\n",
      "Post 1: Volunteers wanted- wiki contributors I'm attempting to overhaul the wiki and it very useful to build a small team who can do various tasks\n",
      "\n",
      "NB this is not a moderator position, this is just helping ou...\n",
      "\n",
      "Post 2: In autistic modded communities you’re going to get autistic modding (Title stolen from a comment i saw earlier that i thought summed up the problem well but annoyingly i can't find it now)\n",
      "\n",
      "All the r/...\n",
      "\n",
      "Post 3: For those of us who prefer their solitude... ...\n",
      "\n",
      "Post 4: People defo won't be able to tell I'm autistic 😎 Just you wait till you see what I have inside it too LOL ...\n",
      "\n",
      "Post 5: Late diagnosed at 25, the way I played The Sims as a child makes so much sense now…  How I played The Sims: \n",
      "I would make a Sim girl that looked like me, same set up every single time, only slight var...\n",
      "\n",
      "Post 6: am i the only one who hates those type of playlists ? not a lot of examples, but trust me there’s more. personally stuff like this really bothers me, since it’s all just coming from the tiktok trend a...\n",
      "\n",
      "Post 7: i fear i may have discovered a new stim guys ...\n",
      "\n",
      "Post 8: Stop it.  Stop hating on NTs. It's gross, it's upsetting, and it's incredibly hypocritial. \n",
      "\n",
      "We autistics, hate being singled out. We hate being all lumped in together and having wide sweeping general...\n",
      "\n",
      "Post 9: Thoughts on this? Do you see autism as a disability or a difficulty?  I saw this poster the other day. When I looked it up there were lots of different opinions on whether autism is a disability or no...\n",
      "\n",
      "Post 10: Why are they not teaching about autism in schools Or any mental illness in general as a matter of fact? There should be an entire class dedicated to this topic, it would and should be a fun experience...\n",
      "\n"
     ]
    }
   ],
   "source": [
    "# Define subreddit and collect posts\n",
    "subreddit = reddit.subreddit(\"autism\")\n",
    "post_limit = 10  # Number of posts to fetch\n",
    "\n",
    "# Collect Reddit posts\n",
    "posts = []\n",
    "for post in subreddit.hot(limit=post_limit):\n",
    "    post_text = f\"{post.title} {post.selftext}\"\n",
    "    posts.append(post_text)\n",
    "\n",
    "# Print collected posts\n",
    "print(f\"Collected {len(posts)} posts from r/autism:\")\n",
    "for i, text in enumerate(posts):\n",
    "    print(f\"Post {i+1}: {text[:200]}...\\n\")  # Print first 200 characters for readability\n"
   ]
  },
  {
   "cell_type": "markdown",
   "metadata": {
    "id": "34oDwmqUDll5"
   },
   "source": [
    "Explanation of Code:\n",
    "\n",
    "1. Label Mapping:\n",
    "   Create a dictionary that maps numeric indices (output by the model) to emotion labels (e.g., joy, sadness, anger, fear, neutral).\n",
    "2. Model and Tokenizer Loading:\n",
    "   Load the fine-tuned DistilBERT model and tokenizer from the specified path.\n",
    "   Ensures compatibility for emotion classification tasks.\n",
    "\n",
    "3. Emotion Classification Pipeline:\n",
    "   Initializes the Hugging Face pipeline for text classification, streamlining tokenization, model inference, and output processing.\n",
    "   GPU support is enabled for faster computation.\n",
    "4. Splitting Long Text:\n",
    "   If a text exceeds the model's token limit (512 tokens), it is split into smaller chunks.\n",
    "   chunks are processed individually to ensure no information is lost.\n",
    "5. Processing Posts:\n",
    "   Each text post is processed in chunks using the pipeline.\n",
    "   Predictions for all chunks are collected and averaged to obtain final emotion scores.\n",
    "   This approach ensures consistent results for lengthy inputs.\n",
    "6. Predicting Emotions:\n",
    "   Multiple example posts are provided as inputs.\n",
    "   The process_post function is used to predict emotion scores for each post.\n",
    "\n",
    "\n",
    "\n"
   ]
  },
  {
   "cell_type": "code",
   "execution_count": null,
   "metadata": {
    "colab": {
     "base_uri": "https://localhost:8080/"
    },
    "id": "3FzusZLae_25",
    "outputId": "0bcf85b9-8efd-44b6-aa92-7bb4487e5dfb"
   },
   "outputs": [
    {
     "name": "stdout",
     "output_type": "stream",
     "text": [
      "Emotion predictions:\n",
      "                                                Post       joy   sadness  \\\n",
      "0  Volunteers wanted- wiki contributors I'm attem...  0.004376  0.003316   \n",
      "1  In autistic modded communities you’re going to...  0.003865  0.003257   \n",
      "2       For those of us who prefer their solitude...  0.005360  0.003416   \n",
      "3  People defo won't be able to tell I'm autistic...  0.003677  0.014992   \n",
      "4  Late diagnosed at 25, the way I played The Sim...  0.004189  0.005015   \n",
      "\n",
      "      anger      fear   neutral  \n",
      "0  0.005054  0.000671  0.988877  \n",
      "1  0.005605  0.000781  0.989357  \n",
      "2  0.004121  0.000709  0.987385  \n",
      "3  0.010746  0.001732  0.974297  \n",
      "4  0.003667  0.000951  0.988761  \n"
     ]
    }
   ],
   "source": [
    "from transformers import pipeline, AutoTokenizer, AutoModelForSequenceClassification\n",
    "import pandas as pd\n",
    "import numpy as np\n",
    "\n",
    "# Define label mapping\n",
    "label_mapping = {0: 'joy', 1: 'sadness', 2: 'anger', 3: 'fear', 4: 'neutral'}\n",
    "\n",
    "# Load the fine-tuned DistilBERT model and tokenizer\n",
    "model_path = \"./fine_tuned_distilbert\"  \n",
    "tokenizer = AutoTokenizer.from_pretrained(model_path)\n",
    "model = AutoModelForSequenceClassification.from_pretrained(model_path)\n",
    "\n",
    "# Initialize emotion classification pipeline\n",
    "emotion_pipeline = pipeline(\n",
    "    \"text-classification\",\n",
    "    model=model,\n",
    "    tokenizer=tokenizer,\n",
    "    device=0,  # Use GPU if available\n",
    "    top_k=None  # Return all scores\n",
    ")\n",
    "\n",
    "# Function to split long text into chunks\n",
    "def split_text_to_chunks(text, tokenizer, max_length=512):\n",
    "    tokens = tokenizer.tokenize(text)\n",
    "    chunks = []\n",
    "    for i in range(0, len(tokens), max_length - 2):  # Account for special tokens\n",
    "        chunk = tokens[i:i + (max_length - 2)]\n",
    "        chunks.append(tokenizer.convert_tokens_to_string(chunk))\n",
    "    return chunks\n",
    "\n",
    "# Function to process posts and aggregate results\n",
    "def process_post(post, pipeline, tokenizer, label_mapping):\n",
    "    chunks = split_text_to_chunks(post, tokenizer)\n",
    "    all_predictions = []\n",
    "\n",
    "    for chunk in chunks:\n",
    "        predictions = pipeline(chunk)  # Predict for each chunk\n",
    "        predictions_flat = {label_mapping[int(emotion['label'].split('_')[-1])]: emotion['score'] for emotion in predictions[0]}\n",
    "        all_predictions.append(predictions_flat)\n",
    "\n",
    "    # Average predictions across chunks\n",
    "    avg_predictions = {\n",
    "        label: np.mean([pred.get(label, 0.0) for pred in all_predictions])\n",
    "        for label in label_mapping.values()\n",
    "    }\n",
    "    return avg_predictions\n",
    "\n",
    "# Example posts (ensure they are within length limits)\n",
    "posts = [\n",
    "    \"Volunteers wanted- wiki contributors I'm attempting to improve ASD-related resources.\",\n",
    "    \"In autistic modded communities you’re going to find unique ways of expressing emotions.\",\n",
    "    \"For those of us who prefer their solitude...\",\n",
    "    \"People defo won't be able to tell I'm autistic unless I mention it!\",\n",
    "    \"Late diagnosed at 25, the way I played The Sims was probably a hint.\"\n",
    "]\n",
    "\n",
    "# Predict emotions for each post\n",
    "results = []\n",
    "for post in posts:\n",
    "    predictions_flat = process_post(post, emotion_pipeline, tokenizer, label_mapping)\n",
    "    results.append({\"Post\": post, **predictions_flat})\n",
    "\n",
    "# Convert results to a DataFrame\n",
    "results_df = pd.DataFrame(results)\n",
    "\n",
    "# Display predictions\n",
    "print(\"Emotion predictions:\")\n",
    "print(results_df.head())\n",
    "\n"
   ]
  },
  {
   "cell_type": "markdown",
   "metadata": {
    "id": "dyh0qQYmG4NI"
   },
   "source": [
    "The emotion predictions from the dataset highlight a dominant prevalence of the neutral tone across all analyzed posts, with scores consistently exceeding 0.97. This observation aligns with the subtle and less overt emotional expression commonly associated with ASD-related communication.\n",
    "\n",
    " - Post 0 (volunteer contributions) and Post 1 (autistic modded communities) exhibit nearly identical neutral scores (0.988 and 0.989, respectively), with minimal association to other emotions like joy, sadness, or anger (all scoring below 0.006).\n",
    "\n",
    " - Post 2 (preference for solitude) and Post 4 (personal autism diagnosis reflection) similarly maintain high neutral probabilities above 0.987.\n",
    "\n",
    " - Post 3, discussing concerns about autistic identity recognition, shows a slightly elevated probability for sadness (0.015) and anger (0.011), suggesting subtle emotional intensity. Nonetheless, the neutral tone still dominates with a score of 0.974.\n",
    "\n",
    "These findings emphasize the nuances in ASD communication, which often deemphasize overt emotional expressions while embedding subtle emotional cues. The model demonstrates its ability to capture this dominant neutrality effectively while still identifying hints of underlying emotions like sadness or anger. This reinforces the model's adaptability and potential applicability to real-world ASD-related text analysis."
   ]
  },
  {
   "cell_type": "markdown",
   "metadata": {
    "id": "WzxcYIA1HZ4j"
   },
   "source": [
    "# Conclusion"
   ]
  },
  {
   "cell_type": "markdown",
   "metadata": {
    "id": "GG7c2Zad1_gc"
   },
   "source": [
    "Overall,  the study successfully developed and fine-tuned a DistilBERT-based multi-label classification model to recognize and classify emotions—joy, sadness, anger, fear, and neutral—in text specifically tailored to Autism Spectrum Disorder (ASD) communication. Leveraging the GoEmotions dataset and focusing on emotions critical to ASD contexts, the model demonstrated robust performance, achieving high accuracy, precision, and F1-scores across most classes. Real-world testing on autism-related forums further validated the model’s effectiveness, showcasing its ability to detect subtle emotional nuances in user-generated text.\n",
    "\n",
    "During the development process, several complications emerged. A notable challenge was handling multi-label annotations by converting integer-encoded labels into a binary float representation compatible with the BCEWithLogitsLoss function. This step required overcoming dimension mismatches, resolving improperly formatted labels, and meeting PyTorch’s float32 requirements. Rigorous preprocessing addressed these challenges, ensuring label integrity and stable model training. These complexities highlight the need for meticulous data preparation when dealing with multi-label classification tasks.\n",
    "\n",
    "While the model achieved promising results, it exhibited certain limitations. First, the maximum sequence length constraint of 512 tokens in the DistilBERT architecture necessitated splitting longer text into smaller chunks, which risks losing contextual coherence. Although predictions across chunks were averaged to mitigate this issue, further refinement is needed. Second, the model’s performance on minority classes such as fear and anger was relatively lower due to class imbalance in the dataset. Techniques like data augmentation, oversampling, or loss adjustments (e.g., focal loss) could improve predictions for these underrepresented emotions.\n",
    "\n",
    "For future work, expanding real-world testing to larger and more diverse ASD communication datasets will enhance the model’s generalizability. Incorporating explainability tools like SHAP or LIME for real-time feedback can improve interpretability, fostering trust among caregivers, educators, and researchers. Additionally, fine-tuning the model with domain-specific corpora related to ASD communication may enhance sensitivity to atypical phrasing and subtle emotional cues. Finally, adopting long-context models such as Longformer could resolve the token length constraints, enabling better handling of extended dialogues and preserving contextual information.\n",
    "\n",
    "In conclusion, this study addresses a significant research gap by developing an emotion classification model tailored for ASD communication—a topic often overlooked in conventional emotion recognition systems. The model’s success demonstrates its potential for real-world applications, offering a foundation for future advancements in emotion-aware technologies. By addressing the identified limitations and implementing the proposed enhancements, this work contributes to a more inclusive, empathetic, and practical framework for understanding emotional expression in ASD-related contexts.\n",
    "\n",
    "\n",
    "\n",
    "\n",
    "\n",
    "\n",
    "\n",
    "\n"
   ]
  },
  {
   "cell_type": "markdown",
   "metadata": {
    "id": "YHWN82GJer-p"
   },
   "source": [
    "# References\n",
    "\n",
    "1. GoEmotions Dataset:\n",
    "Demszky, D., Mahajan, D., Singh, G., Cowen, A., Nemade, G., & Ravi, S. (2020). GoEmotions: A Dataset of Fine-Grained Emotions. Google Research. Retrieved from https://ai.googleblog.com/2021/10/goemotions-dataset-for-fine-grained.html\n",
    "\n",
    "2. Transformer Architecture:\n",
    "Vaswani, A., Shazeer, N., Parmar, N., Uszkoreit, J., Jones, L., Gomez, A. N., Kaiser, Ł., & Polosukhin, I. (2017). Attention is All You Need. Advances in Neural Information Processing Systems, 30. Retrieved from https://arxiv.org/abs/1706.03762\n",
    "\n",
    "3. DistilBERT Model:\n",
    "Sanh, V., Debut, L., Chaumond, J., & Wolf, T. (2019). DistilBERT, a distilled version of BERT: smaller, faster, cheaper and lighter. Proceedings of the 5th Workshop on Energy Efficient Machine Learning and Cognitive Computing. Retrieved from https://arxiv.org/abs/1910.01108\n",
    "\n",
    "4. Emotion Recognition and ASD:\n",
    "Hume, K., Loftin, R., & Lantz, J. (2009). Increasing independence in autism spectrum disorders: A review of research on self-management interventions. Journal of Autism and Developmental Disorders, 39(2), 195-217.\n",
    "\n",
    "5. LIME for Explainability:\n",
    "Ribeiro, M. T., Singh, S., & Guestrin, C. (2016). \"Why Should I Trust You?\": Explaining the Predictions of Any Classifier. Proceedings of the 22nd ACM SIGKDD International Conference on Knowledge Discovery and Data Mining. Retrieved from https://arxiv.org/abs/1602.04938\n",
    "\n",
    "\n",
    "6. Emotion Processing in Autism:\n",
    "Mazefsky, C. A., & White, S. W. (2014). Emotion regulation: Concepts and practice in autism spectrum disorder. Child and Adolescent Psychiatric Clinics of North America, 23(1), 15-34.\n",
    "\n",
    "7. Challenges in NLP for ASD Communication:\n",
    "Eigsti, I. M., De Marchena, A., Schuh, J., & Kelley, E. (2011). Language acquisition in autism spectrum disorders: A developmental review. Research in Autism Spectrum Disorders, 5(2), 681-691.\n",
    "\n",
    "8. Sensing Technologies and Machine Learning in Autism:\n",
    "Banos, O., Comas-González, Z., Medina, J., Polo-Rodríguez, A., Gil, D., Peral, J., Amador, S., & Villalonga, C. (2024). Sensing technologies and machine learning methods for emotion recognition in autism: Systematic review. Retrieved from https://arxiv.org/abs/2407.04712\n",
    "\n",
    "9. Transformer-Based Neural Networks for Emotion Recognition:\n",
    "Creanga, C., & Dinu, A. (2024). Transformer based neural networks for emotion recognition in conversations. Retrieved from https://arxiv.org/abs/2405.11222\n",
    "\n",
    "10. Multimodal Emotion Recognition with Transformers:\n",
    "(2022). Emotion Recognition with Pre-Trained Transformers Using Multimodal Signals. Retrieved from https://ieeexplore.ieee.org/document/9953852\n",
    "\n",
    "11. Real-Time Facial Emotion Recognition in Autism:\n",
    "(2023). Real-time facial emotion recognition system among children with autism using enhanced deep learning techniques. Retrieved from https://link.springer.com/article/10.1007/s00521-023-08372-9\n",
    "\n",
    "12. Automatic Emotion Recognition in Autism:\n",
    "(2022). Automatic Emotion Recognition in Children with Autism: A Systematic Literature Review. Retrieved from https://www.mdpi.com/1424-8220/22/4/1649\n",
    "\n",
    "\n"
   ]
  }
 ],
 "metadata": {
  "accelerator": "GPU",
  "colab": {
   "gpuType": "T4",
   "provenance": []
  },
  "kernelspec": {
   "display_name": "Python 3 (ipykernel)",
   "language": "python",
   "name": "python3"
  },
  "language_info": {
   "codemirror_mode": {
    "name": "ipython",
    "version": 3
   },
   "file_extension": ".py",
   "mimetype": "text/x-python",
   "name": "python",
   "nbconvert_exporter": "python",
   "pygments_lexer": "ipython3",
   "version": "3.11.5"
  },
  "widgets": {
   "application/vnd.jupyter.widget-state+json": {
    "27b5c64d4b744897b75cf80d1db2ca3a": {
     "model_module": "@jupyter-widgets/base",
     "model_module_version": "1.2.0",
     "model_name": "LayoutModel",
     "state": {
      "_model_module": "@jupyter-widgets/base",
      "_model_module_version": "1.2.0",
      "_model_name": "LayoutModel",
      "_view_count": null,
      "_view_module": "@jupyter-widgets/base",
      "_view_module_version": "1.2.0",
      "_view_name": "LayoutView",
      "align_content": null,
      "align_items": null,
      "align_self": null,
      "border": null,
      "bottom": null,
      "display": null,
      "flex": null,
      "flex_flow": null,
      "grid_area": null,
      "grid_auto_columns": null,
      "grid_auto_flow": null,
      "grid_auto_rows": null,
      "grid_column": null,
      "grid_gap": null,
      "grid_row": null,
      "grid_template_areas": null,
      "grid_template_columns": null,
      "grid_template_rows": null,
      "height": null,
      "justify_content": null,
      "justify_items": null,
      "left": null,
      "margin": null,
      "max_height": null,
      "max_width": null,
      "min_height": null,
      "min_width": null,
      "object_fit": null,
      "object_position": null,
      "order": null,
      "overflow": null,
      "overflow_x": null,
      "overflow_y": null,
      "padding": null,
      "right": null,
      "top": null,
      "visibility": null,
      "width": null
     }
    },
    "2c09f170110d4541895f56e4b1806867": {
     "model_module": "@jupyter-widgets/base",
     "model_module_version": "1.2.0",
     "model_name": "LayoutModel",
     "state": {
      "_model_module": "@jupyter-widgets/base",
      "_model_module_version": "1.2.0",
      "_model_name": "LayoutModel",
      "_view_count": null,
      "_view_module": "@jupyter-widgets/base",
      "_view_module_version": "1.2.0",
      "_view_name": "LayoutView",
      "align_content": null,
      "align_items": null,
      "align_self": null,
      "border": null,
      "bottom": null,
      "display": null,
      "flex": null,
      "flex_flow": null,
      "grid_area": null,
      "grid_auto_columns": null,
      "grid_auto_flow": null,
      "grid_auto_rows": null,
      "grid_column": null,
      "grid_gap": null,
      "grid_row": null,
      "grid_template_areas": null,
      "grid_template_columns": null,
      "grid_template_rows": null,
      "height": null,
      "justify_content": null,
      "justify_items": null,
      "left": null,
      "margin": null,
      "max_height": null,
      "max_width": null,
      "min_height": null,
      "min_width": null,
      "object_fit": null,
      "object_position": null,
      "order": null,
      "overflow": null,
      "overflow_x": null,
      "overflow_y": null,
      "padding": null,
      "right": null,
      "top": null,
      "visibility": null,
      "width": null
     }
    },
    "45838ed982154058b9f9c291bb2a86ef": {
     "model_module": "@jupyter-widgets/base",
     "model_module_version": "1.2.0",
     "model_name": "LayoutModel",
     "state": {
      "_model_module": "@jupyter-widgets/base",
      "_model_module_version": "1.2.0",
      "_model_name": "LayoutModel",
      "_view_count": null,
      "_view_module": "@jupyter-widgets/base",
      "_view_module_version": "1.2.0",
      "_view_name": "LayoutView",
      "align_content": null,
      "align_items": null,
      "align_self": null,
      "border": null,
      "bottom": null,
      "display": null,
      "flex": null,
      "flex_flow": null,
      "grid_area": null,
      "grid_auto_columns": null,
      "grid_auto_flow": null,
      "grid_auto_rows": null,
      "grid_column": null,
      "grid_gap": null,
      "grid_row": null,
      "grid_template_areas": null,
      "grid_template_columns": null,
      "grid_template_rows": null,
      "height": null,
      "justify_content": null,
      "justify_items": null,
      "left": null,
      "margin": null,
      "max_height": null,
      "max_width": null,
      "min_height": null,
      "min_width": null,
      "object_fit": null,
      "object_position": null,
      "order": null,
      "overflow": null,
      "overflow_x": null,
      "overflow_y": null,
      "padding": null,
      "right": null,
      "top": null,
      "visibility": null,
      "width": null
     }
    },
    "49da9a3eaa8d4722a7c01b495482237b": {
     "model_module": "@jupyter-widgets/controls",
     "model_module_version": "1.5.0",
     "model_name": "HTMLModel",
     "state": {
      "_dom_classes": [],
      "_model_module": "@jupyter-widgets/controls",
      "_model_module_version": "1.5.0",
      "_model_name": "HTMLModel",
      "_view_count": null,
      "_view_module": "@jupyter-widgets/controls",
      "_view_module_version": "1.5.0",
      "_view_name": "HTMLView",
      "description": "",
      "description_tooltip": null,
      "layout": "IPY_MODEL_27b5c64d4b744897b75cf80d1db2ca3a",
      "placeholder": "​",
      "style": "IPY_MODEL_78503590416c487393d6f6f8ebdedd64",
      "value": " 2344/2344 [00:01&lt;00:00, 1742.32 examples/s]"
     }
    },
    "51da5a5ab67542649b02609952b4a7fa": {
     "model_module": "@jupyter-widgets/base",
     "model_module_version": "1.2.0",
     "model_name": "LayoutModel",
     "state": {
      "_model_module": "@jupyter-widgets/base",
      "_model_module_version": "1.2.0",
      "_model_name": "LayoutModel",
      "_view_count": null,
      "_view_module": "@jupyter-widgets/base",
      "_view_module_version": "1.2.0",
      "_view_name": "LayoutView",
      "align_content": null,
      "align_items": null,
      "align_self": null,
      "border": null,
      "bottom": null,
      "display": null,
      "flex": null,
      "flex_flow": null,
      "grid_area": null,
      "grid_auto_columns": null,
      "grid_auto_flow": null,
      "grid_auto_rows": null,
      "grid_column": null,
      "grid_gap": null,
      "grid_row": null,
      "grid_template_areas": null,
      "grid_template_columns": null,
      "grid_template_rows": null,
      "height": null,
      "justify_content": null,
      "justify_items": null,
      "left": null,
      "margin": null,
      "max_height": null,
      "max_width": null,
      "min_height": null,
      "min_width": null,
      "object_fit": null,
      "object_position": null,
      "order": null,
      "overflow": null,
      "overflow_x": null,
      "overflow_y": null,
      "padding": null,
      "right": null,
      "top": null,
      "visibility": null,
      "width": null
     }
    },
    "78503590416c487393d6f6f8ebdedd64": {
     "model_module": "@jupyter-widgets/controls",
     "model_module_version": "1.5.0",
     "model_name": "DescriptionStyleModel",
     "state": {
      "_model_module": "@jupyter-widgets/controls",
      "_model_module_version": "1.5.0",
      "_model_name": "DescriptionStyleModel",
      "_view_count": null,
      "_view_module": "@jupyter-widgets/base",
      "_view_module_version": "1.2.0",
      "_view_name": "StyleView",
      "description_width": ""
     }
    },
    "8d20c34abcad426a9531a7598d82f71a": {
     "model_module": "@jupyter-widgets/controls",
     "model_module_version": "1.5.0",
     "model_name": "ProgressStyleModel",
     "state": {
      "_model_module": "@jupyter-widgets/controls",
      "_model_module_version": "1.5.0",
      "_model_name": "ProgressStyleModel",
      "_view_count": null,
      "_view_module": "@jupyter-widgets/base",
      "_view_module_version": "1.2.0",
      "_view_name": "StyleView",
      "bar_color": null,
      "description_width": ""
     }
    },
    "b788defa774f4921be61669cb601a95f": {
     "model_module": "@jupyter-widgets/controls",
     "model_module_version": "1.5.0",
     "model_name": "HBoxModel",
     "state": {
      "_dom_classes": [],
      "_model_module": "@jupyter-widgets/controls",
      "_model_module_version": "1.5.0",
      "_model_name": "HBoxModel",
      "_view_count": null,
      "_view_module": "@jupyter-widgets/controls",
      "_view_module_version": "1.5.0",
      "_view_name": "HBoxView",
      "box_style": "",
      "children": [
       "IPY_MODEL_e563b2b7bc3a48e0ba41e609ad1ede5f",
       "IPY_MODEL_fb6dc31933ab4cbc9430279a8fd7fd0b",
       "IPY_MODEL_49da9a3eaa8d4722a7c01b495482237b"
      ],
      "layout": "IPY_MODEL_2c09f170110d4541895f56e4b1806867"
     }
    },
    "d8d34c9a78034766b49dfd6a514ec1c3": {
     "model_module": "@jupyter-widgets/controls",
     "model_module_version": "1.5.0",
     "model_name": "DescriptionStyleModel",
     "state": {
      "_model_module": "@jupyter-widgets/controls",
      "_model_module_version": "1.5.0",
      "_model_name": "DescriptionStyleModel",
      "_view_count": null,
      "_view_module": "@jupyter-widgets/base",
      "_view_module_version": "1.2.0",
      "_view_name": "StyleView",
      "description_width": ""
     }
    },
    "e563b2b7bc3a48e0ba41e609ad1ede5f": {
     "model_module": "@jupyter-widgets/controls",
     "model_module_version": "1.5.0",
     "model_name": "HTMLModel",
     "state": {
      "_dom_classes": [],
      "_model_module": "@jupyter-widgets/controls",
      "_model_module_version": "1.5.0",
      "_model_name": "HTMLModel",
      "_view_count": null,
      "_view_module": "@jupyter-widgets/controls",
      "_view_module_version": "1.5.0",
      "_view_name": "HTMLView",
      "description": "",
      "description_tooltip": null,
      "layout": "IPY_MODEL_45838ed982154058b9f9c291bb2a86ef",
      "placeholder": "​",
      "style": "IPY_MODEL_d8d34c9a78034766b49dfd6a514ec1c3",
      "value": "Map: 100%"
     }
    },
    "fb6dc31933ab4cbc9430279a8fd7fd0b": {
     "model_module": "@jupyter-widgets/controls",
     "model_module_version": "1.5.0",
     "model_name": "FloatProgressModel",
     "state": {
      "_dom_classes": [],
      "_model_module": "@jupyter-widgets/controls",
      "_model_module_version": "1.5.0",
      "_model_name": "FloatProgressModel",
      "_view_count": null,
      "_view_module": "@jupyter-widgets/controls",
      "_view_module_version": "1.5.0",
      "_view_name": "ProgressView",
      "bar_style": "success",
      "description": "",
      "description_tooltip": null,
      "layout": "IPY_MODEL_51da5a5ab67542649b02609952b4a7fa",
      "max": 2344,
      "min": 0,
      "orientation": "horizontal",
      "style": "IPY_MODEL_8d20c34abcad426a9531a7598d82f71a",
      "value": 2344
     }
    }
   }
  }
 },
 "nbformat": 4,
 "nbformat_minor": 1
}
